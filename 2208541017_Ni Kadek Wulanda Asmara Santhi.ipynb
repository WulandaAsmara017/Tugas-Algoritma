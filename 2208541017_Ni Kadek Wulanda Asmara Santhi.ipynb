{
 "cells": [
  {
   "cell_type": "code",
   "execution_count": 1,
   "id": "07eaedfc",
   "metadata": {},
   "outputs": [
    {
     "name": "stdout",
     "output_type": "stream",
     "text": [
      "Nama : Ni Kadek Wulanda Asmara Santhi\n",
      "Umur : 19 tahun\n",
      "Alamat : Banjar Batugaing Kaja, Desa Beraban, Kediri, Tabanan\n",
      "Pekerjaan : Pelajar/Mahasiswa\n"
     ]
    }
   ],
   "source": [
    "#memasukkan data yang diinginkan\n",
    "nama = \"Ni Kadek Wulanda Asmara Santhi\"\n",
    "umur = \"19 tahun\"\n",
    "alamat = \"Banjar Batugaing Kaja, Desa Beraban, Kediri, Tabanan\"\n",
    "pekerjaan = \"Pelajar/Mahasiswa\"\n",
    "\n",
    "#mencetak biodata mahasiswa\n",
    "print(\"Nama : \"+ nama)\n",
    "print(\"Umur : \"+ umur)\n",
    "print(\"Alamat : \"+ alamat)\n",
    "print(\"Pekerjaan : \"+ pekerjaan)"
   ]
  },
  {
   "cell_type": "code",
   "execution_count": 2,
   "id": "14bab5de",
   "metadata": {},
   "outputs": [
    {
     "name": "stdout",
     "output_type": "stream",
     "text": [
      "Siapakah nama mu? Wulan\n",
      "Sedang apakah kamu hari ini, Wulan? belajar menggunakan Python\n",
      "Semangat belajar menggunakan Python nya ya, Wulan!\n"
     ]
    }
   ],
   "source": [
    "#memasukkan inputan yang diinginkan\n",
    "nama = input(\"Siapakah nama mu? \")\n",
    "kegiatan = input(\"Sedang apakah kamu hari ini, \"+ nama +\"? \")\n",
    "\n",
    "#mencetak tampilan yang diinginkan\n",
    "print(\"Semangat \"+ kegiatan +\" nya ya, \"+ nama +\"!\")"
   ]
  },
  {
   "cell_type": "code",
   "execution_count": 3,
   "id": "fd779a0d",
   "metadata": {},
   "outputs": [
    {
     "name": "stdout",
     "output_type": "stream",
     "text": [
      "Saya sedang belajar menggunakan Python hari ini.\n"
     ]
    }
   ],
   "source": [
    "#mencetak tampilan yang diinginkan\n",
    "print(\"Saya sedang belajar menggunakan Python hari ini.\")"
   ]
  },
  {
   "cell_type": "code",
   "execution_count": 4,
   "id": "b501f004",
   "metadata": {},
   "outputs": [
    {
     "name": "stdout",
     "output_type": "stream",
     "text": [
      "Berapakah jumlah uang di dompet mu? 50000\n",
      "Berapakah jumlah uang mu di koperasi? 100000\n",
      "Total jumlah uang mu adalah Rp 150000\n"
     ]
    }
   ],
   "source": [
    "#memasukkan inputan yang diinginkan\n",
    "uang_di_dompet = input(\"Berapakah jumlah uang di dompet mu? \")\n",
    "uang_di_koperasi = input(\"Berapakah jumlah uang mu di koperasi? \")\n",
    "\n",
    "#menjumlahkan total uang\n",
    "total_uang = int(uang_di_dompet) + int(uang_di_koperasi)\n",
    "\n",
    "#mencetak hasil\n",
    "print(\"Total jumlah uang mu adalah Rp \"+ str(total_uang))"
   ]
  },
  {
   "cell_type": "code",
   "execution_count": 5,
   "id": "d431f454",
   "metadata": {},
   "outputs": [
    {
     "name": "stdout",
     "output_type": "stream",
     "text": [
      "Masukkan angka pertama : 3\n",
      "Masukkan angka kedua : 6\n",
      "Masukkan angka ketiga : 9\n",
      "Hasil penjumlahan dari 3, 6, dan 9 adalah 18\n"
     ]
    }
   ],
   "source": [
    "#memasukkan inputan angka\n",
    "angka1 = input(\"Masukkan angka pertama : \")\n",
    "angka2 = input(\"Masukkan angka kedua : \")\n",
    "angka3 = input(\"Masukkan angka ketiga : \")\n",
    "\n",
    "#menjumlahkan angka\n",
    "penjumlahan = int(angka1) + int(angka2) + int(angka3)\n",
    "\n",
    "#mencetak hasil\n",
    "print(\"Hasil penjumlahan dari \"+ angka1 + \", \"+ angka2 +\", dan \" + angka3 + \" adalah \"+ str(penjumlahan))"
   ]
  },
  {
   "cell_type": "code",
   "execution_count": 20,
   "id": "1d8d7f7b",
   "metadata": {},
   "outputs": [
    {
     "name": "stdout",
     "output_type": "stream",
     "text": [
      "Luas persegi panjang adalah 75 cm.\n"
     ]
    }
   ],
   "source": [
    "#memasukkan nilai panjang dan lebar dalam persegi panjang\n",
    "panjang = 15\n",
    "lebar = 5\n",
    "\n",
    "#mengalikan panjang dan lebar persegi panjang\n",
    "luas = panjang*lebar\n",
    "\n",
    "#mencetak hasil\n",
    "print(\"Luas persegi panjang adalah \"+ str(luas) + \" cm.\")"
   ]
  },
  {
   "cell_type": "code",
   "execution_count": 7,
   "id": "c5f4fad5",
   "metadata": {},
   "outputs": [
    {
     "name": "stdout",
     "output_type": "stream",
     "text": [
      "Masukkan nama Anda : Wulan\n",
      "Hallo, Wulan! Selamat datang di Program Studi Matematika, Universitas Udayana\n"
     ]
    }
   ],
   "source": [
    "#memasukkan inputan nama\n",
    "nama = input(\"Masukkan nama Anda : \")\n",
    "\n",
    "#mencetak hasil yang diinginkan\n",
    "print(\"Hallo, \"+ nama + \"! Selamat datang di Program Studi Matematika, Universitas Udayana\")"
   ]
  },
  {
   "cell_type": "code",
   "execution_count": 8,
   "id": "a3db5fd4",
   "metadata": {},
   "outputs": [
    {
     "name": "stdout",
     "output_type": "stream",
     "text": [
      "Berapakah harga buku yang kamu beli? 5000\n",
      "Berapakah harga pulpen yang kamu beli? 3000\n",
      "Jadi, total harga yang harus kamu bayar adalah 8000\n"
     ]
    }
   ],
   "source": [
    "#memasukkan inputan yang diinginkan\n",
    "harga_barang1 = input(\"Berapakah harga buku yang kamu beli? \")\n",
    "harga_barang2 = input(\"Berapakah harga pulpen yang kamu beli? \")\n",
    "\n",
    "#mencari total harga seluruh barang \n",
    "total_harga = int(harga_barang1) + int(harga_barang2)\n",
    "\n",
    "#mencetak hasil\n",
    "print(\"Jadi, total harga yang harus kamu bayar adalah \"+ str(total_harga))"
   ]
  },
  {
   "cell_type": "code",
   "execution_count": 9,
   "id": "d55b4d2f",
   "metadata": {},
   "outputs": [
    {
     "name": "stdout",
     "output_type": "stream",
     "text": [
      "---Jumlah Mahasiswa Angkatan 2022 Program Studi Matematika---\n",
      "Jumlah mahasiswa kelas A : 43\n",
      "Jumlah mahasiswa kelas B : 43\n",
      "Total jumlah mahasiswa : 86\n"
     ]
    }
   ],
   "source": [
    "#mencetak judul\n",
    "print(\"---Jumlah Mahasiswa Angkatan 2022 Program Studi Matematika---\")\n",
    "\n",
    "#mencetak dan memasukkan inputan jumlah mahasiswa per kelas\n",
    "kelasA = input(\"Jumlah mahasiswa kelas A : \")\n",
    "kelasB = input(\"Jumlah mahasiswa kelas B : \")\n",
    "\n",
    "#menentukan jumlah seluruh mahasiswa\n",
    "total_mahasiswa = int(kelasA) + int(kelasB)\n",
    "\n",
    "#mencetak hasil\n",
    "print(\"Total jumlah mahasiswa : \"+ str(total_mahasiswa))"
   ]
  },
  {
   "cell_type": "code",
   "execution_count": 10,
   "id": "442434c1",
   "metadata": {},
   "outputs": [
    {
     "name": "stdout",
     "output_type": "stream",
     "text": [
      "Luas kubus tersebut adalah 343 cm.\n"
     ]
    }
   ],
   "source": [
    "#memasukkan panjang sisi kubus\n",
    "sisi = 7\n",
    "\n",
    "#menentukan luas kubus\n",
    "luas = sisi*sisi*sisi\n",
    "\n",
    "#mencetak hasil\n",
    "print(\"Luas kubus tersebut adalah \"+ str(luas) + \" cm.\")"
   ]
  },
  {
   "cell_type": "code",
   "execution_count": 11,
   "id": "f77b2ef1",
   "metadata": {},
   "outputs": [
    {
     "name": "stdout",
     "output_type": "stream",
     "text": [
      "Total pembayaran listrik selama 4 bulan adalah Rp 950000\n"
     ]
    }
   ],
   "source": [
    "#memasukkan inputan pembayaran listrik\n",
    "bulan1 = 250000\n",
    "bulan2 = 200000\n",
    "bulan3 = 300000\n",
    "bulan4 = 200000\n",
    "\n",
    "#menjumlahkan total pembayaran\n",
    "total = int(bulan1) + int(bulan2) + int(bulan3) + int(bulan4)\n",
    "\n",
    "#mencetak hasil\n",
    "print(\"Total pembayaran listrik selama 4 bulan adalah Rp \"+ str(total))"
   ]
  },
  {
   "cell_type": "code",
   "execution_count": 21,
   "id": "3457af2d",
   "metadata": {},
   "outputs": [
    {
     "name": "stdout",
     "output_type": "stream",
     "text": [
      "---Dialog Pembayaran Listrik---\n",
      "A : Selamat siang, Pak. Saya ingin membayar listrik 4 bulan terakhir. Apakah bisa, Pak?\n",
      "B : Bisa, Pak.\n",
      "A : Jadi berapa total yang harus saya bayar, Pak?\n",
      "B : Totalnya Rp 950000, Pak.\n",
      "A : Baik, Pak. Ini saya bayar.\n",
      "B : Baik, Pak. Terimakasih.\n"
     ]
    }
   ],
   "source": [
    "#memasukkan inputan pembayaran listrik\n",
    "bulan1 = 250000\n",
    "bulan2 = 200000\n",
    "bulan3 = 300000\n",
    "bulan4 = 200000\n",
    "\n",
    "#menjumlahkan total pembayaran\n",
    "total = int(bulan1) + int(bulan2) + int(bulan3) + int(bulan4)\n",
    "\n",
    "#mencetak hasil\n",
    "print(\"---Dialog Pembayaran Listrik---\")\n",
    "print(\"A : Selamat siang, Pak. Saya ingin membayar listrik 4 bulan terakhir. Apakah bisa, Pak?\")\n",
    "print(\"B : Bisa, Pak.\")\n",
    "print(\"A : Jadi berapa total yang harus saya bayar, Pak?\")\n",
    "print(\"B : Totalnya Rp \" + str(total) + \", Pak.\")\n",
    "print(\"A : Baik, Pak. Ini saya bayar.\")\n",
    "print(\"B : Baik, Pak. Terimakasih.\")"
   ]
  },
  {
   "cell_type": "code",
   "execution_count": 19,
   "id": "6853e301",
   "metadata": {},
   "outputs": [
    {
     "name": "stdout",
     "output_type": "stream",
     "text": [
      "Hai, boleh kenalan ga? Nama mu siapa? Wulan\n",
      "Kalau boleh tau pekerjaan mu apa ya? Mahasiswa\n",
      "Oh, sudah berapa lama? Semester 2\n",
      "Jadi, nama mu Wulan yah, seorang Mahasiswa dan baru menginjak Semester 2. Salam kenal yah!\n"
     ]
    }
   ],
   "source": [
    "#memasukkan inputan yang diinginkan\n",
    "nama = input(\"Hai, boleh kenalan ga? Nama mu siapa? \")\n",
    "pekerjaan = input(\"Kalau boleh tau pekerjaan mu apa ya? \")\n",
    "waktu = input(\"Oh, sudah berapa lama? \")\n",
    "\n",
    "#mencetak hasil yang diinginkan\n",
    "print(\"Jadi, nama mu \" + nama + \" yah, seorang \" + pekerjaan + \" dan baru menginjak \" + waktu + \". Salam kenal yah!\")"
   ]
  },
  {
   "cell_type": "code",
   "execution_count": 14,
   "id": "471e567a",
   "metadata": {},
   "outputs": [
    {
     "name": "stdout",
     "output_type": "stream",
     "text": [
      "Jadi, keliling persegi panjang tersebut adalah 30 cm.\n"
     ]
    }
   ],
   "source": [
    "#memasukkan nilai panjang dan lebar persegi panjang\n",
    "panjang = 10\n",
    "lebar = 5\n",
    "\n",
    "#menentukan keliling\n",
    "keliling = 2*(int(panjang) + int(lebar))\n",
    "\n",
    "#mencetak hasil\n",
    "print(\"Jadi, keliling persegi panjang tersebut adalah \" + str(keliling) + \" cm.\")"
   ]
  },
  {
   "cell_type": "code",
   "execution_count": 15,
   "id": "e770c494",
   "metadata": {},
   "outputs": [
    {
     "name": "stdout",
     "output_type": "stream",
     "text": [
      "500\n",
      "350\n",
      "200\n",
      "35000000\n"
     ]
    }
   ],
   "source": [
    "#memasukkan data yang diinginkan\n",
    "buku = 500\n",
    "pulpen = 350\n",
    "penggaris = 200\n",
    "\n",
    "#mencetak hasil yang diinginkan\n",
    "print(buku)\n",
    "print(pulpen)\n",
    "print(penggaris)\n",
    "print(buku*pulpen*penggaris)"
   ]
  },
  {
   "cell_type": "code",
   "execution_count": 16,
   "id": "6253b48e",
   "metadata": {},
   "outputs": [
    {
     "name": "stdout",
     "output_type": "stream",
     "text": [
      "20\n",
      "15\n",
      "5\n",
      "40\n"
     ]
    }
   ],
   "source": [
    "#memasukkan data yang diinginkan\n",
    "banyak_kaos = 20\n",
    "banyak_dress = 15\n",
    "banyak_handuk = 5\n",
    "\n",
    "#mencetak hasil yang diinginkan\n",
    "print(banyak_kaos)\n",
    "print(banyak_dress)\n",
    "print(banyak_handuk)\n",
    "print(banyak_kaos + banyak_dress + banyak_handuk)"
   ]
  },
  {
   "cell_type": "code",
   "execution_count": 17,
   "id": "a4e6609e",
   "metadata": {},
   "outputs": [
    {
     "name": "stdout",
     "output_type": "stream",
     "text": [
      "Masukkan nilai alas : 7\n",
      "Masukkan nilai tinggi : 14\n",
      "Jadi, luas segitiga tersebut adalah 49.0 cm.\n"
     ]
    }
   ],
   "source": [
    "#memasukkan inputan nilai alas dan tinggi segitiga\n",
    "alas = float(input(\"Masukkan nilai alas : \"))\n",
    "tinggi = float(input(\"Masukkan nilai tinggi : \"))\n",
    "\n",
    "#menentukan luas segitiga\n",
    "luas = alas*tinggi/2\n",
    "\n",
    "#mencetak hasil\n",
    "print(\"Jadi, luas segitiga tersebut adalah \"+ str(luas) + \" cm.\")"
   ]
  },
  {
   "cell_type": "code",
   "execution_count": 18,
   "id": "06a173a0",
   "metadata": {},
   "outputs": [
    {
     "name": "stdout",
     "output_type": "stream",
     "text": [
      "Kayla diterima di Program Studi Matematika, Universitas Udayana\n"
     ]
    }
   ],
   "source": [
    "#memasukkan data yang diinginkan\n",
    "nama = \"Kayla\"\n",
    "prodi = \"Program Studi Matematika\"\n",
    "institusi = \"Universitas Udayana\"\n",
    "\n",
    "#mencetak hasil yang diinginkan\n",
    "print(nama + \" diterima di \"+ prodi + \", \"+ institusi)"
   ]
  },
  {
   "cell_type": "code",
   "execution_count": 22,
   "id": "e91a05f9",
   "metadata": {},
   "outputs": [
    {
     "name": "stdout",
     "output_type": "stream",
     "text": [
      "9.0\n"
     ]
    }
   ],
   "source": [
    "#memasukkan inputan angka\n",
    "angka1 = 6\n",
    "angka2 = 2\n",
    "angka3 = 4\n",
    "\n",
    "#mencetak hasil yang diinginkan\n",
    "print((angka1**angka2)/angka3)"
   ]
  },
  {
   "cell_type": "code",
   "execution_count": 24,
   "id": "866bfbf0",
   "metadata": {},
   "outputs": [
    {
     "name": "stdout",
     "output_type": "stream",
     "text": [
      "Masukkan angka 1 : 16\n",
      "Masukkan angka 2 : 4\n",
      "Masukkan angka 3 : 2\n",
      "Berikut hasil operasinya: \n",
      "Hasil tambah : 22\n",
      "Hasil kurang : 10\n",
      "Hasil kali : 128\n",
      "Hasil bagi : 2.0\n"
     ]
    }
   ],
   "source": [
    "#memasukkan inputan angka\n",
    "angka1 = int(input(\"Masukkan angka 1 : \"))\n",
    "angka2 = int(input(\"Masukkan angka 2 : \"))\n",
    "angka3 = int(input(\"Masukkan angka 3 : \"))\n",
    "\n",
    "#menentukan hasil operasinya\n",
    "tambah = angka1+angka2+angka3\n",
    "kurang = angka1-angka2-angka3\n",
    "kali = angka1*angka2*angka3\n",
    "bagi = angka1/angka2/angka3\n",
    "\n",
    "#mencetak hasil\n",
    "print(\"Berikut hasil operasinya: \")\n",
    "print(\"Hasil tambah : \" + str(tambah))\n",
    "print(\"Hasil kurang : \" + str(kurang))\n",
    "print(\"Hasil kali : \" + str(kali))\n",
    "print(\"Hasil bagi : \" + str(bagi))"
   ]
  },
  {
   "cell_type": "code",
   "execution_count": 25,
   "id": "4e68f6f1",
   "metadata": {},
   "outputs": [
    {
     "name": "stdout",
     "output_type": "stream",
     "text": [
      "Jadi, luas trapesium tersebut adalah 52.5 cm.\n"
     ]
    }
   ],
   "source": [
    "#memasukkan nilai sisi dan tinggi trapesium\n",
    "sisi_alas = 10\n",
    "sisi_atas = 5\n",
    "tinggi = 7\n",
    "\n",
    "#menentukan luas trapesium\n",
    "luas = ((sisi_alas+sisi_atas)*tinggi)/2\n",
    "\n",
    "#mencetak hasil\n",
    "print(\"Jadi, luas trapesium tersebut adalah \"+ str(luas) +\" cm.\")"
   ]
  },
  {
   "cell_type": "code",
   "execution_count": 27,
   "id": "45181ef7",
   "metadata": {},
   "outputs": [
    {
     "name": "stdout",
     "output_type": "stream",
     "text": [
      "Hallo, nama saya Ni Kadek Wulanda Asmara Santhi dengan NIM 2208541017, dari Kelas A, Prodi Matematika, angkatan 2022, di Univeritas Udayana.\n"
     ]
    }
   ],
   "source": [
    "#memasukkan data yang diinginkan\n",
    "nama = \"Ni Kadek Wulanda Asmara Santhi\"\n",
    "nim = \"2208541017\"\n",
    "kelas = \"A\"\n",
    "prodi = \"Matematika\"\n",
    "angkatan = \"2022\"\n",
    "institusi = \"Univeritas Udayana\"\n",
    "\n",
    "#mencetak hasil yang diinginkan\n",
    "print(\"Hallo, nama saya \"+ nama + \" dengan NIM \"+ nim + \", dari Kelas \"+ kelas + \", Prodi \"+ prodi +\", angkatan \"+ angkatan +\", di \"+ institusi +\".\")"
   ]
  }
 ],
 "metadata": {
  "kernelspec": {
   "display_name": "Python 3 (ipykernel)",
   "language": "python",
   "name": "python3"
  },
  "language_info": {
   "codemirror_mode": {
    "name": "ipython",
    "version": 3
   },
   "file_extension": ".py",
   "mimetype": "text/x-python",
   "name": "python",
   "nbconvert_exporter": "python",
   "pygments_lexer": "ipython3",
   "version": "3.9.13"
  }
 },
 "nbformat": 4,
 "nbformat_minor": 5
}

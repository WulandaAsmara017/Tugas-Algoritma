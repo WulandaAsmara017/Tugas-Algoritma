{
 "cells": [
  {
   "cell_type": "markdown",
   "id": "f2b28ecc",
   "metadata": {},
   "source": [
    "# PERTEMUAN III (Mata Kuliah Algoritma dan Struktur Data)"
   ]
  },
  {
   "cell_type": "markdown",
   "id": "cb0e3193",
   "metadata": {},
   "source": [
    "# 5.5 STRINGS INDEX\n",
    "- Diurutkan dengan index yang dimulai dengan 0 (dari kiri ke kanan)\n",
    "- Urutan terakhir didefinisikan sebagai urutan ke -1 (dari kanan ke kiri)\n",
    "- Spasi dalam kalimat juga termasuk index\n",
    "\n",
    "Berikut latihan Strings Index:"
   ]
  },
  {
   "cell_type": "code",
   "execution_count": 2,
   "id": "cd3f17df",
   "metadata": {},
   "outputs": [],
   "source": [
    "kegiatan = \"Saya sedang belajar menggunakan python\"\n",
    "#masukkan string ke variabel kegiatan"
   ]
  },
  {
   "cell_type": "code",
   "execution_count": 4,
   "id": "bf777b28",
   "metadata": {},
   "outputs": [
    {
     "name": "stdout",
     "output_type": "stream",
     "text": [
      "belajar \n"
     ]
    }
   ],
   "source": [
    "#menampilkan index ke 12 sampai ke 20\n",
    "print(kegiatan[12:20])"
   ]
  },
  {
   "cell_type": "code",
   "execution_count": 5,
   "id": "52df2b98",
   "metadata": {},
   "outputs": [
    {
     "name": "stdout",
     "output_type": "stream",
     "text": [
      "Saya sedang belajar\n"
     ]
    }
   ],
   "source": [
    "#menampilkan index ke 0 sampai sebelum index ke -19\n",
    "print(kegiatan[0:-19])"
   ]
  },
  {
   "cell_type": "code",
   "execution_count": 7,
   "id": "960ca827",
   "metadata": {},
   "outputs": [
    {
     "name": "stdout",
     "output_type": "stream",
     "text": [
      "Saya sedang belajar menggunakan python\n"
     ]
    }
   ],
   "source": [
    "#menampilkan index dari awal sampai akhir\n",
    "print(kegiatan[:])"
   ]
  },
  {
   "cell_type": "code",
   "execution_count": 1,
   "id": "8a82e9dc",
   "metadata": {},
   "outputs": [
    {
     "name": "stdout",
     "output_type": "stream",
     "text": [
      "mahasiswa matematik\n"
     ]
    }
   ],
   "source": [
    "#menampilkan index ke 5 sampai sebelum index ke -1\n",
    "x = \"saya mahasiswa matematika\"\n",
    "print(x[5:-1])"
   ]
  },
  {
   "cell_type": "code",
   "execution_count": 17,
   "id": "233d12b1",
   "metadata": {},
   "outputs": [
    {
     "name": "stdout",
     "output_type": "stream",
     "text": [
      "saya Wula\n",
      "Nama sa\n",
      "Wulan\n"
     ]
    }
   ],
   "source": [
    "nama = \"Nama saya Wulanda\"\n",
    "#masukkan string ke variabel nama\n",
    "\n",
    "#menampilkan index ke 5 sampai sebelum index ke -3\n",
    "print(nama[5:-3])\n",
    "\n",
    "#menampilkan index ke 0 sampai ke 7\n",
    "print(nama[0:7])\n",
    "\n",
    "#menampilkan index ke 10 sampai sebelum index ke -2\n",
    "print(nama[10:-2])"
   ]
  },
  {
   "cell_type": "code",
   "execution_count": 19,
   "id": "de08b4f1",
   "metadata": {},
   "outputs": [
    {
     "name": "stdout",
     "output_type": "stream",
     "text": [
      "yaPitt vi y\n"
     ]
    }
   ],
   "source": [
    "universitas = \"Saya dari Prodi Matematika Universitas Udayana\"\n",
    "#masukkan string ke variabel universitas\n",
    "\n",
    "#menampilkan index ke 2 sampai sebelum ke -3, dengan 4 loncotan\n",
    "print(universitas[2:-3:4])\n",
    "#awalan mulai dari 2, berlanjut dengan 4 lompatan, dan 3 huruf paling belakang akan hilang"
   ]
  },
  {
   "cell_type": "code",
   "execution_count": 5,
   "id": "fdff9dc8",
   "metadata": {},
   "outputs": [
    {
     "name": "stdout",
     "output_type": "stream",
     "text": [
      "ri aha n\n"
     ]
    }
   ],
   "source": [
    "hari = \"Hari ini adalah hari Senin\"\n",
    "#menampilkan index ke 2 sampai sebelum ke -1, dengan 3 loncotan\n",
    "print(hari[2:-1:3])\n",
    "#awalan mulai dari 2, berlanjut dengan 3 lompatan, dan 1 huruf paling belakang akan hilang"
   ]
  },
  {
   "cell_type": "markdown",
   "id": "edfd5ca9",
   "metadata": {},
   "source": [
    "# 5.6 STRINGS METHODS\n",
    "\n",
    "Berikut latihan Strings Methods:"
   ]
  },
  {
   "cell_type": "code",
   "execution_count": 3,
   "id": "c2374485",
   "metadata": {},
   "outputs": [],
   "source": [
    "universitas = \"Saya dari Prodi Matematika Universitas Udayana\"\n",
    "#masukkan string ke variabel universitas"
   ]
  },
  {
   "cell_type": "code",
   "execution_count": 20,
   "id": "67f39675",
   "metadata": {},
   "outputs": [
    {
     "name": "stdout",
     "output_type": "stream",
     "text": [
      "46\n"
     ]
    }
   ],
   "source": [
    "print(len(universitas))\n",
    "#menghitung jumlah huruf"
   ]
  },
  {
   "cell_type": "code",
   "execution_count": 4,
   "id": "d0912c5e",
   "metadata": {},
   "outputs": [
    {
     "data": {
      "text/plain": [
       "'Saya dari prodi matematika universitas udayana'"
      ]
     },
     "execution_count": 4,
     "metadata": {},
     "output_type": "execute_result"
    }
   ],
   "source": [
    "universitas.capitalize()\n",
    "#mencetak semua kalimat dengan hanya kata pertama huruf pertama menggunakan huruf kapital"
   ]
  },
  {
   "cell_type": "code",
   "execution_count": 21,
   "id": "bf4b922e",
   "metadata": {},
   "outputs": [
    {
     "data": {
      "text/plain": [
       "'SAYA DARI PRODI MATEMATIKA UNIVERSITAS UDAYANA'"
      ]
     },
     "execution_count": 21,
     "metadata": {},
     "output_type": "execute_result"
    }
   ],
   "source": [
    "universitas.upper()\n",
    "#mencetak semua dengan huruf kapital"
   ]
  },
  {
   "cell_type": "code",
   "execution_count": 22,
   "id": "68858a9d",
   "metadata": {},
   "outputs": [
    {
     "data": {
      "text/plain": [
       "'saya dari prodi matematika universitas udayana'"
      ]
     },
     "execution_count": 22,
     "metadata": {},
     "output_type": "execute_result"
    }
   ],
   "source": [
    "universitas.lower()\n",
    "#mencetak semua dengan huruf kecil"
   ]
  },
  {
   "cell_type": "code",
   "execution_count": 23,
   "id": "e8281c90",
   "metadata": {},
   "outputs": [
    {
     "data": {
      "text/plain": [
       "16"
      ]
     },
     "execution_count": 23,
     "metadata": {},
     "output_type": "execute_result"
    }
   ],
   "source": [
    "universitas.find(\"Matematika\")\n",
    "#menentukan urutan keberapa huruf M pada kalimat di variabel universitas"
   ]
  },
  {
   "cell_type": "code",
   "execution_count": 5,
   "id": "80923a38",
   "metadata": {},
   "outputs": [
    {
     "data": {
      "text/plain": [
       "10"
      ]
     },
     "execution_count": 5,
     "metadata": {},
     "output_type": "execute_result"
    }
   ],
   "source": [
    "universitas.find(\"Prodi\")\n",
    "#menampilkan posisi kata \"Prodi\" pada urutan keberapa"
   ]
  },
  {
   "cell_type": "code",
   "execution_count": 6,
   "id": "1b409612",
   "metadata": {},
   "outputs": [
    {
     "data": {
      "text/plain": [
       "-1"
      ]
     },
     "execution_count": 6,
     "metadata": {},
     "output_type": "execute_result"
    }
   ],
   "source": [
    "universitas.find(\"prodi\")\n",
    "#tidak dapat muncul dengan urutan keberapa karena kata \"prodi\" tidak terdapat dalam variabel (huruf p dalam kata prodi menggunakan huruf kecil)"
   ]
  },
  {
   "cell_type": "code",
   "execution_count": 26,
   "id": "cc50b095",
   "metadata": {},
   "outputs": [
    {
     "data": {
      "text/plain": [
       "'Saya dari Program Studi Matematika Universitas Udayana'"
      ]
     },
     "execution_count": 26,
     "metadata": {},
     "output_type": "execute_result"
    }
   ],
   "source": [
    "universitas.replace(\"Prodi\", \"Program Studi\")\n",
    "#mengganti kata \"Prodi\" dengan \"Program Studi\" pada kalimat di variabel universitas"
   ]
  },
  {
   "cell_type": "code",
   "execution_count": 27,
   "id": "25fd52c5",
   "metadata": {},
   "outputs": [
    {
     "name": "stdout",
     "output_type": "stream",
     "text": [
      "True\n"
     ]
    }
   ],
   "source": [
    "print(\"Matematika\" in universitas)\n",
    "#kata \"Matematika\" benar ada dalam variabel universitas"
   ]
  },
  {
   "cell_type": "code",
   "execution_count": 28,
   "id": "594f9ed0",
   "metadata": {},
   "outputs": [
    {
     "name": "stdout",
     "output_type": "stream",
     "text": [
      "False\n"
     ]
    }
   ],
   "source": [
    "print(\"matematika\" in universitas)\n",
    "#kata \"matematika\" tidak ada dalam variabel universitas karena huruf m pertama menggunakan huruf kecil"
   ]
  },
  {
   "cell_type": "markdown",
   "id": "340de9bd",
   "metadata": {},
   "source": [
    "# 5.7 OPERASI MATEMATIKA DI PYTHON\n",
    "- Penjumlahan (+)\n",
    "- Pengurangan (-)\n",
    "- Perkalian (*)\n",
    "- Pembagian (/)\n",
    "- Pembulatan pembagian (//)\n",
    "- Modulo (%)\n",
    "- Pemangkatan (**)\n",
    "- Augmented operator: contoh: x=3, x+=1 artinya x=x+1. Berlaku juga pada pengurangan dan perkalian.\n",
    "\n",
    "Berikut latihan Operasi Matematika di Python:"
   ]
  },
  {
   "cell_type": "code",
   "execution_count": 8,
   "id": "0f025712",
   "metadata": {},
   "outputs": [
    {
     "name": "stdout",
     "output_type": "stream",
     "text": [
      "20\n",
      "10\n",
      "100\n",
      "2.0\n",
      "4\n",
      "0\n",
      "400\n"
     ]
    }
   ],
   "source": [
    "#latihan penjumlahan\n",
    "print(17+3)\n",
    "\n",
    "#latihan pengurangan\n",
    "print(15-5)\n",
    "\n",
    "#latihan perkalian\n",
    "print(50*2)\n",
    "\n",
    "#latihan pembagian\n",
    "print(10/5)\n",
    "\n",
    "#latihan pembulatan pembagian\n",
    "print(17//4)\n",
    "\n",
    "#latihan modulo\n",
    "print(15%3)\n",
    "\n",
    "#latihan pemangkatan\n",
    "print(20**2)"
   ]
  },
  {
   "cell_type": "code",
   "execution_count": 9,
   "id": "809a51be",
   "metadata": {},
   "outputs": [
    {
     "name": "stdout",
     "output_type": "stream",
     "text": [
      "Masukkan nilai x : 15\n",
      "Masukkan nilai y : 2\n",
      "17\n",
      "13\n",
      "30\n",
      "7.5\n",
      "7\n",
      "1\n",
      "225\n"
     ]
    }
   ],
   "source": [
    "x = input(\"Masukkan nilai x : \")\n",
    "y = input(\"Masukkan nilai y : \")\n",
    "\n",
    "#penjumlahan\n",
    "print(int(x) + int(y))\n",
    "\n",
    "#pengurangan\n",
    "print(int(x) - int(y))\n",
    "\n",
    "#perkalian\n",
    "print(int(x) * int(y))\n",
    "\n",
    "#pembagian\n",
    "print(int(x) / int(y))\n",
    "\n",
    "#pembulatan pembagian\n",
    "print(int(x) // int(y))\n",
    "\n",
    "#modulo\n",
    "print(int(x) % int(y))\n",
    "\n",
    "#pemangkatan\n",
    "print(int(x) ** int(y))"
   ]
  },
  {
   "cell_type": "code",
   "execution_count": 12,
   "id": "108e8ca5",
   "metadata": {},
   "outputs": [
    {
     "name": "stdout",
     "output_type": "stream",
     "text": [
      "Masukkan nilai a : 25\n",
      "Masukkan nilai b : 5\n",
      "30\n",
      "20\n",
      "125\n",
      "5.0\n",
      "5\n",
      "0\n",
      "9765625\n"
     ]
    }
   ],
   "source": [
    "a = input(\"Masukkan nilai a : \")\n",
    "b = input(\"Masukkan nilai b : \")\n",
    "\n",
    "#penjumlahan\n",
    "print(int(a) + int(b))\n",
    "\n",
    "#pengurangan\n",
    "print(int(a) - int(b))\n",
    "\n",
    "#perkalian\n",
    "print(int(a) * int(b))\n",
    "\n",
    "#pembagian\n",
    "print(int(a) / int(b))\n",
    "\n",
    "#pembulatan pembagian\n",
    "print(int(a) // int(b))\n",
    "\n",
    "#modulo\n",
    "print(int(a) % int(b))\n",
    "\n",
    "#pemangkatan\n",
    "print(int(a) ** int(b))"
   ]
  },
  {
   "cell_type": "code",
   "execution_count": 30,
   "id": "a430cff6",
   "metadata": {},
   "outputs": [
    {
     "name": "stdout",
     "output_type": "stream",
     "text": [
      "4\n",
      "2\n",
      "8\n"
     ]
    }
   ],
   "source": [
    "#latihan augmented operator\n",
    "x=3\n",
    "\n",
    "x+=1\n",
    "#mencetak hasil x+1\n",
    "print(x)\n",
    "\n",
    "x-=2\n",
    "#mencetak hasil (x+1)-2\n",
    "print(x)\n",
    "\n",
    "x*=4\n",
    "#mencetak hasil ((x+1)-2)x4\n",
    "print(x)"
   ]
  },
  {
   "cell_type": "code",
   "execution_count": 6,
   "id": "87662ed6",
   "metadata": {},
   "outputs": [
    {
     "name": "stdout",
     "output_type": "stream",
     "text": [
      "1350\n"
     ]
    }
   ],
   "source": [
    "#latihan augmented operator pada perkalian\n",
    "x = 9\n",
    "x *= 150\n",
    "print(x)"
   ]
  },
  {
   "cell_type": "code",
   "execution_count": 7,
   "id": "b4686094",
   "metadata": {},
   "outputs": [
    {
     "name": "stdout",
     "output_type": "stream",
     "text": [
      "75.0\n"
     ]
    }
   ],
   "source": [
    "#latihan augmented operator pada pembagian\n",
    "x = 150\n",
    "x /= 2\n",
    "print(x)"
   ]
  },
  {
   "cell_type": "code",
   "execution_count": 9,
   "id": "12561d39",
   "metadata": {},
   "outputs": [
    {
     "name": "stdout",
     "output_type": "stream",
     "text": [
      "Total jumlah pakaian yang ada adalah 37\n"
     ]
    }
   ],
   "source": [
    "#latihan operasi penjumlahan \n",
    "kemeja = 15\n",
    "kaos = 22\n",
    "pakaian = kemeja + kaos\n",
    "print(\"Total jumlah pakaian yang ada adalah\", pakaian)"
   ]
  },
  {
   "cell_type": "code",
   "execution_count": 10,
   "id": "50802ae0",
   "metadata": {},
   "outputs": [
    {
     "name": "stdout",
     "output_type": "stream",
     "text": [
      "Jadi, keliling persegi panjang tersebut adalah 44\n"
     ]
    }
   ],
   "source": [
    "#latihan operasi penjumlahan perkalian\n",
    "panjang = 15\n",
    "lebar = 7\n",
    "keliling = 2 * (panjang + lebar)\n",
    "print(\"Jadi, keliling persegi panjang tersebut adalah\", keliling)"
   ]
  },
  {
   "cell_type": "markdown",
   "id": "22a3c6a8",
   "metadata": {},
   "source": [
    "# 5.8 OPERATOR PERBANDINGAN DI PYTHON\n",
    "- Lebih besar (>)\n",
    "- Lebih kecil (<)\n",
    "- Lebih besar sama dengan (>=)\n",
    "- Lebih kecil sama dengan (<=)\n",
    "- Sama dengan (==)\n",
    "- Tidak sama dengan (!=)"
   ]
  },
  {
   "cell_type": "code",
   "execution_count": 10,
   "id": "32c55722",
   "metadata": {},
   "outputs": [
    {
     "name": "stdout",
     "output_type": "stream",
     "text": [
      "True\n",
      "True\n",
      "True\n",
      "False\n",
      "True\n",
      "True\n"
     ]
    }
   ],
   "source": [
    "#menentukan benar (true) atau salah (false)\n",
    "\n",
    "#lebih besar dari\n",
    "x = 5<6\n",
    "print(x)\n",
    "\n",
    "#lebih kecil dari\n",
    "x = 3<7\n",
    "print(x)\n",
    "\n",
    "#lebih besar sama dengan\n",
    "x = 6>=5\n",
    "print(x)\n",
    "\n",
    "#lebih kecil sama dengan\n",
    "x = 6<=5\n",
    "print(x)\n",
    "\n",
    "#sama dengan\n",
    "x = 5==5\n",
    "print(x)\n",
    "\n",
    "#tidak sama dengan\n",
    "x = 7!=9\n",
    "print(x)"
   ]
  },
  {
   "cell_type": "code",
   "execution_count": 11,
   "id": "e3ae1b72",
   "metadata": {},
   "outputs": [
    {
     "name": "stdout",
     "output_type": "stream",
     "text": [
      "True\n",
      "-2\n",
      "False\n",
      "-1\n"
     ]
    }
   ],
   "source": [
    "x = 7<9\n",
    "y = 7>9\n",
    "\n",
    "print(x)\n",
    "print(~x)\n",
    "print(y)\n",
    "print(~y)\n",
    "\n",
    "#tanda ~ artinya negasi\n",
    "#output -1 menyatakan true dan -2 menyatakan false"
   ]
  },
  {
   "cell_type": "code",
   "execution_count": 25,
   "id": "da1a9907",
   "metadata": {},
   "outputs": [
    {
     "name": "stdout",
     "output_type": "stream",
     "text": [
      "True\n",
      "False\n",
      "False\n",
      "False\n",
      "False\n",
      "True\n"
     ]
    }
   ],
   "source": [
    "#lebih besar dari\n",
    "x = 50<100\n",
    "print(x)\n",
    "\n",
    "#lebih kecil dari\n",
    "x = 5<4\n",
    "print(x)\n",
    "\n",
    "#lebih besar sama dengan\n",
    "x = 7>=18\n",
    "print(x)\n",
    "\n",
    "#lebih kecil sama dengan\n",
    "x = 10<=5\n",
    "print(x)\n",
    "\n",
    "#sama dengan\n",
    "x = 9==5\n",
    "print(x)\n",
    "\n",
    "#tidak sama dengan\n",
    "x = 10!=20\n",
    "print(x)"
   ]
  },
  {
   "cell_type": "code",
   "execution_count": 11,
   "id": "af850e46",
   "metadata": {},
   "outputs": [
    {
     "name": "stdout",
     "output_type": "stream",
     "text": [
      "False\n",
      "-1\n",
      "True\n",
      "-2\n"
     ]
    }
   ],
   "source": [
    "x = 4 > 8\n",
    "\n",
    "print(x) \n",
    "#bernilai salah karena 4 lebih kecil dari 8\n",
    "print(~(x))\n",
    "#bernilai benar (-1) karena kebalikan dari nilai salah\n",
    "\n",
    "y = 10 < 25\n",
    "\n",
    "print(y) \n",
    "#bernilai benar karena 10 lebil kecil dari 25\n",
    "print(~y)\n",
    "#bernilai salah (-2) karena kebalikan dari nilai benar"
   ]
  },
  {
   "cell_type": "code",
   "execution_count": 14,
   "id": "fd960b0c",
   "metadata": {},
   "outputs": [
    {
     "name": "stdout",
     "output_type": "stream",
     "text": [
      "False\n",
      "-1\n",
      "False\n",
      "-1\n"
     ]
    }
   ],
   "source": [
    "x = 4 == 8\n",
    "\n",
    "print(x) \n",
    "#bernilai salah karena 4 tidak sama dengan 8\n",
    "print(~(x))\n",
    "#bernilai benar (-1) karena kebalikan dari nilai salah\n",
    "\n",
    "y = 10 != 10\n",
    "\n",
    "print(y) \n",
    "#bernilai salah karena 10 sama dengan 10\n",
    "print(~y)\n",
    "#bernilai benar (-1) karena kebalikan dari nilai salah"
   ]
  },
  {
   "cell_type": "markdown",
   "id": "18029cc1",
   "metadata": {},
   "source": [
    "# 5.9 OPERATOR LOGIKA DI PYTHON\n",
    "Operator logika yaitu ada and, or, dan not.\n",
    "\n",
    "- Operator and akan bernilai True jika kedua nilai adalah True\n",
    "- Operator or akan bernilai True jika salah satu atau keduanya bernilai True\n",
    "- Operator not akan menghasilkan nilai berlawanan\n",
    "\n",
    "Berikut latihan Operator Logika di Python:"
   ]
  },
  {
   "cell_type": "code",
   "execution_count": 32,
   "id": "e4b72762",
   "metadata": {},
   "outputs": [
    {
     "name": "stdout",
     "output_type": "stream",
     "text": [
      "False\n"
     ]
    }
   ],
   "source": [
    "#masukkan angka\n",
    "buah_rambutan = 20\n",
    "buah_semangka = 17\n",
    "\n",
    "#mencetak hasil\n",
    "print(buah_rambutan < 25 and buah_semangka > 20)\n",
    "#bernilai False karena salah satu pernyataan bernilai salah"
   ]
  },
  {
   "cell_type": "code",
   "execution_count": 33,
   "id": "13181cd7",
   "metadata": {},
   "outputs": [
    {
     "name": "stdout",
     "output_type": "stream",
     "text": [
      "True\n"
     ]
    }
   ],
   "source": [
    "print(buah_rambutan < 25 or buah_semangka > 20)\n",
    "#bernilai True karena salah satu pernyataan bernilai benar"
   ]
  },
  {
   "cell_type": "code",
   "execution_count": 14,
   "id": "ede31433",
   "metadata": {},
   "outputs": [
    {
     "name": "stdout",
     "output_type": "stream",
     "text": [
      "False\n"
     ]
    }
   ],
   "source": [
    "pulpen = 5\n",
    "buku = 9\n",
    "\n",
    "print(pulpen > 8 and buku < 6)\n",
    "#bernilai False karena kedua bernyataan bernilai salah"
   ]
  },
  {
   "cell_type": "code",
   "execution_count": 15,
   "id": "39ab4ca0",
   "metadata": {},
   "outputs": [
    {
     "name": "stdout",
     "output_type": "stream",
     "text": [
      "True\n"
     ]
    }
   ],
   "source": [
    "print(pulpen <= 8 or buku < 6)\n",
    "#bernilai True karena salah satu pernyataan bernilai benar"
   ]
  },
  {
   "cell_type": "code",
   "execution_count": 22,
   "id": "6bae3189",
   "metadata": {},
   "outputs": [
    {
     "name": "stdout",
     "output_type": "stream",
     "text": [
      "True\n"
     ]
    }
   ],
   "source": [
    "print(not(pulpen > 9 or buku == 5))\n",
    "\n",
    "#seharusnya bernilai False, karena terdapat operator not maka bernilai True"
   ]
  },
  {
   "cell_type": "code",
   "execution_count": 23,
   "id": "48a4a328",
   "metadata": {},
   "outputs": [
    {
     "name": "stdout",
     "output_type": "stream",
     "text": [
      "False\n"
     ]
    }
   ],
   "source": [
    "kemeja = 50\n",
    "kaos = 20\n",
    "\n",
    "print(kemeja == 40 and kaos > 15)\n",
    "#bernilai False, karena salah satu pernyataan bernilai salah"
   ]
  },
  {
   "cell_type": "code",
   "execution_count": 24,
   "id": "064bc646",
   "metadata": {},
   "outputs": [
    {
     "name": "stdout",
     "output_type": "stream",
     "text": [
      "False\n"
     ]
    }
   ],
   "source": [
    "print(not(kemeja >= 55 or kaos <= 60))\n",
    "#seharusnya bernilai True, karena terdapat not maka bernilai False"
   ]
  },
  {
   "cell_type": "markdown",
   "id": "3412f821",
   "metadata": {},
   "source": [
    "# 5.10 OPERATOR IF DI PYTHON\n",
    "Operator if akan dijalankan apabila nilai variabel yang dijalankan adalah True, sedangkan jika nilainya False, maka tidak akan dijalankan.\n",
    "\n",
    "Berikut latihan Operator if di Python:"
   ]
  },
  {
   "cell_type": "code",
   "execution_count": 18,
   "id": "cc314d1e",
   "metadata": {},
   "outputs": [
    {
     "name": "stdout",
     "output_type": "stream",
     "text": [
      "Nilai anda adalah : B\n",
      "Bagus, tingkatkan lagi prestasimu!\n"
     ]
    }
   ],
   "source": [
    "nilai = input(\"Nilai anda adalah : \")\n",
    "if nilai == \"A\":\n",
    "    print(\"Sangat bagus, pertahankan ya!\")\n",
    "if nilai == \"B\":\n",
    "    print(\"Bagus, tingkatkan lagi prestasimu!\")\n",
    "if nilai == \"C\":\n",
    "    print(\"Ayo tingkatkan lagi semangat belajar mu!\")\n",
    "if nilai == \"D\":\n",
    "    print(\"Kamu harus mengulang lagi tahun depan, semangat!\")\n",
    "if nilai == \"E\":\n",
    "    print(\"Jangan bermalas-malasan! Kamu harus mengulang lagi tahun depan.\")\n",
    "    \n",
    "#akan ditampilkan sesuai yang kita input"
   ]
  },
  {
   "cell_type": "code",
   "execution_count": 19,
   "id": "06668b89",
   "metadata": {},
   "outputs": [
    {
     "name": "stdout",
     "output_type": "stream",
     "text": [
      "Masukkan bilangan : 50\n",
      "50 merupakan bilangan genap.\n"
     ]
    }
   ],
   "source": [
    "bilangan = int(input(\"Masukkan bilangan : \"))\n",
    "\n",
    "if bilangan % 2 == 1:\n",
    "    print(bilangan, \"merupakan bilangan ganjil.\")\n",
    "else:\n",
    "    print(bilangan, \"merupakan bilangan genap.\")\n",
    "    \n",
    "#menentukan bilangan genap atau ganjil"
   ]
  },
  {
   "cell_type": "code",
   "execution_count": 20,
   "id": "36b0921b",
   "metadata": {},
   "outputs": [
    {
     "name": "stdout",
     "output_type": "stream",
     "text": [
      "60\n"
     ]
    }
   ],
   "source": [
    "a = 50\n",
    "\n",
    "if a<80:\n",
    "    x = a+10\n",
    "    print(x)\n",
    "    \n",
    "#variabel a memenuhi syarat pada operator if"
   ]
  },
  {
   "cell_type": "code",
   "execution_count": 21,
   "id": "5dc11c75",
   "metadata": {},
   "outputs": [
    {
     "name": "stdout",
     "output_type": "stream",
     "text": [
      "60\n",
      "50\n"
     ]
    }
   ],
   "source": [
    "a = 50\n",
    "b = 25\n",
    "if a<80:\n",
    "    x = a+10\n",
    "    print(x)\n",
    "if b>20:\n",
    "    y = b*2\n",
    "    print(y)\n",
    "\n",
    "#variabel a dan b memenuhi syarat pada operator if"
   ]
  }
 ],
 "metadata": {
  "kernelspec": {
   "display_name": "Python 3 (ipykernel)",
   "language": "python",
   "name": "python3"
  },
  "language_info": {
   "codemirror_mode": {
    "name": "ipython",
    "version": 3
   },
   "file_extension": ".py",
   "mimetype": "text/x-python",
   "name": "python",
   "nbconvert_exporter": "python",
   "pygments_lexer": "ipython3",
   "version": "3.9.13"
  }
 },
 "nbformat": 4,
 "nbformat_minor": 5
}

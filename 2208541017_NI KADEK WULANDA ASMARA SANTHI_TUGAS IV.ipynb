{
 "cells": [
  {
   "cell_type": "markdown",
   "id": "090611c7",
   "metadata": {},
   "source": [
    "# TUGAS MINGGU KEEMPAT (MATA KULIAH ALGORITMA DAN STRUKTUR DATA)"
   ]
  },
  {
   "cell_type": "markdown",
   "id": "f3a9ebf8",
   "metadata": {},
   "source": [
    "# 5.11 WHILE LOOP\n",
    "   While loop adalah perulangan uncountable atau perulangan yang jumlah proses pengulangannya tidak ditentukan. Ia akan menjalankan baris kode di dalam blok kodenya secara terus menerus selama masih memenuhi ekspresi yang sudah ditentukan sebelumnya, yang berarti ia akan terus mengulang selama kondisi bernilai TRUE.\n",
    "\n",
    "Berikut contoh latihan While loop:"
   ]
  },
  {
   "cell_type": "code",
   "execution_count": 1,
   "id": "34b6d97e",
   "metadata": {},
   "outputs": [
    {
     "name": "stdout",
     "output_type": "stream",
     "text": [
      "\n",
      "*\n",
      "**\n",
      "***\n",
      "****\n"
     ]
    }
   ],
   "source": [
    "#latihan while loop (1)\n",
    "\n",
    "#pertama-tama kita inisialisasi nilai variabel a = 0\n",
    "a = 0\n",
    "\n",
    "#kemudian dilakukan perulangan dari a = 0 sampai nilai a kurang dari 5 (dengan menggunakan simbol \"*\")\n",
    "while a < 5:\n",
    "    print(a * \"*\")\n",
    "    a += 1\n",
    "\n",
    "#perulangan while di atas akan diulang sebanyak 5 kali, mulai dari a = 0 atau \" \", a = 1 atau \"*\", a = 2 atau \"**\", a = 3 atau \"***\", hingga a = 4 atau \"****\".\n",
    "#ketika nilai variabel counter a sudah mencapai 5 atau \"*****\", maka kondisi while a < 5 tidak terpenuhi lagi (FALSE), sehingga perulangan berhenti."
   ]
  },
  {
   "cell_type": "code",
   "execution_count": 1,
   "id": "d173e1ec",
   "metadata": {},
   "outputs": [
    {
     "name": "stdout",
     "output_type": "stream",
     "text": [
      "Angka 0 masih dibawah 7\n",
      "Angka 1 masih dibawah 7\n",
      "Angka 2 masih dibawah 7\n",
      "Angka 3 masih dibawah 7\n",
      "Angka 4 masih dibawah 7\n",
      "Angka 5 masih dibawah 7\n",
      "Angka 6 masih dibawah 7\n"
     ]
    }
   ],
   "source": [
    "#latihan while loop (2)\n",
    "\n",
    "#pertama-tama kita inisialisasi nilai variabel x = 0\n",
    "x = 0\n",
    "\n",
    "#kemudian dilakukan perulangan dari x = 0 sampai nilai x kurang dari 7\n",
    "while x < 7:\n",
    "    print(\"Angka \" + str(x) + \" masih dibawah 7\")\n",
    "    x += 1\n",
    "\n",
    "#perulangan while di atas akan diulang sebanyak 7 kali, mulai dari x = 0, x = 1, x = 2, x = 3, x = 4, x = 5, hingga x = 6\n",
    "#ketika nilai variabel counter a sudah mencapai 7, maka kondisi while a < 7 tidak terpenuhi lagi (FALSE), sehingga perulangan berhenti."
   ]
  },
  {
   "cell_type": "code",
   "execution_count": 7,
   "id": "ec5e8abb",
   "metadata": {},
   "outputs": [
    {
     "name": "stdout",
     "output_type": "stream",
     "text": [
      "Masukkan bilangan bulat x = 10\n",
      "1\n",
      "2\n",
      "3\n",
      "4\n",
      "5\n",
      "6\n",
      "7\n",
      "8\n",
      "9\n",
      "10\n"
     ]
    }
   ],
   "source": [
    "#latihan while loop (3)\n",
    "\n",
    "#pertama-tama kita inisialisasi nilai variabel i = 1\n",
    "i = 1\n",
    "x = int(input(\"Masukkan bilangan bulat x = \"))\n",
    "\n",
    "#kemudian dilakukan perulangan dari i = 1 sampai nilai yang kurang dari atau sama dengan nilai x\n",
    "while i <= x:\n",
    "    print(i)\n",
    "    i += 1\n",
    "    \n",
    "#perulangan while di atas akan diulang sebanyak 10 kali, mulai dari i = 1 hingga i = 10\n",
    "#ketika nilai variabel counter i sudah mencapai 10, maka perulangan akan berhenti."
   ]
  },
  {
   "cell_type": "code",
   "execution_count": 8,
   "id": "3df2433c",
   "metadata": {},
   "outputs": [
    {
     "name": "stdout",
     "output_type": "stream",
     "text": [
      "Masukkan bilangan bulat x = 115\n",
      "100\n",
      "101\n",
      "102\n",
      "103\n",
      "104\n",
      "105\n",
      "106\n",
      "107\n",
      "108\n",
      "109\n",
      "110\n",
      "111\n",
      "112\n",
      "113\n",
      "114\n",
      "115\n"
     ]
    }
   ],
   "source": [
    "#latihan while loop (4)\n",
    "\n",
    "#pertama-tama kita inisialisasi nilai variabel y = 100\n",
    "y = 100\n",
    "x = int(input(\"Masukkan bilangan bulat x = \"))\n",
    "\n",
    "#kemudian dilakukan perulangan dari y = 100 sampai nilai yang kurang dari atau sama dengan nilai x\n",
    "while y <= x:\n",
    "    print(y)\n",
    "    y += 1\n",
    "    \n",
    "#perulangan while di atas akan diulang sebanyak 15 kali, mulai dari y = 100 hingga y = 115\n",
    "#ketika nilai variabel counter i sudah mencapai 115, maka perulangan akan berhenti."
   ]
  },
  {
   "cell_type": "markdown",
   "id": "e753f38d",
   "metadata": {},
   "source": [
    "# 5.12 LIST DI PYTHON\n",
    "   List dapat digunakan saat kita akan merepresentasikan objek di dalam Python baik berupa string maupun berupa angka. Ini akan banyak digunakan pada saat kita mengolah data pada Python. List dapat dipanggil urutannya, bahkan isinya dapat dirubah.\n",
    "\n",
    "Berikut contoh latihan List di Python:"
   ]
  },
  {
   "cell_type": "code",
   "execution_count": 4,
   "id": "4b6564c4",
   "metadata": {},
   "outputs": [
    {
     "name": "stdout",
     "output_type": "stream",
     "text": [
      "['Mawar', 'Melati', 'Anggrek', 'Teratai']\n"
     ]
    }
   ],
   "source": [
    "#latihan list di python (1)\n",
    "\n",
    "#pertama-tama pikirkan dan buat list yang diinginkan\n",
    "bunga = [\"Mawar\", \"Melati\", \"Anggrek\", \"Teratai\"]\n",
    "#diurutkan dengan list yang dimulai dengan 0 (dari kiri ke kanan)\n",
    "#urutan terakhir didefinisikan sebagai urutan ke -1 (dari kanan ke kiri)\n",
    "#\"Mawar\" = list ke 0 atau ke -4\n",
    "#\"Melati\" = list ke 1 atau ke -3\n",
    "#\"Anggrek\" = list ke 2 atau ke -2\n",
    "#\"Teratai\" = list ke 3 atau ke -1\n",
    "\n",
    "#mencetak semua list\n",
    "print(bunga)"
   ]
  },
  {
   "cell_type": "code",
   "execution_count": 5,
   "id": "879e1fc1",
   "metadata": {},
   "outputs": [
    {
     "name": "stdout",
     "output_type": "stream",
     "text": [
      "Anggrek\n"
     ]
    }
   ],
   "source": [
    "#latihan list di python (2)\n",
    "\n",
    "#dengan list yang sama pada latihan 1\n",
    "#mencetak list urutan kedua\n",
    "print(bunga[2])"
   ]
  },
  {
   "cell_type": "code",
   "execution_count": 6,
   "id": "2e427ca4",
   "metadata": {},
   "outputs": [
    {
     "name": "stdout",
     "output_type": "stream",
     "text": [
      "Mawar\n"
     ]
    }
   ],
   "source": [
    "#latihan list di python (3)\n",
    "\n",
    "#dengan list yang sama pada latihan 1\n",
    "#mencetak list urutan ke 0\n",
    "print(bunga[0])"
   ]
  },
  {
   "cell_type": "code",
   "execution_count": 7,
   "id": "5bda7037",
   "metadata": {},
   "outputs": [
    {
     "name": "stdout",
     "output_type": "stream",
     "text": [
      "Anggrek\n"
     ]
    }
   ],
   "source": [
    "#latihan list di python (4)\n",
    "\n",
    "#dengan list yang sama pada latihan 1\n",
    "#mencetak list urutan ke -2\n",
    "print(bunga[-2])"
   ]
  },
  {
   "cell_type": "code",
   "execution_count": 8,
   "id": "752aea0f",
   "metadata": {},
   "outputs": [
    {
     "name": "stdout",
     "output_type": "stream",
     "text": [
      "['Mawar', 'Melati', 'Jempiring', 'Teratai']\n"
     ]
    }
   ],
   "source": [
    "#latihan list di python (5)\n",
    "\n",
    "#dengan list yang sama pada latihan 1\n",
    "bunga[-2] = \"Jempiring\"\n",
    "#mencetak semua list dengan mengganti list pada ururan ke -2 dengan \"Jempiring\"\n",
    "print(bunga)"
   ]
  },
  {
   "cell_type": "code",
   "execution_count": 16,
   "id": "592e549d",
   "metadata": {},
   "outputs": [
    {
     "name": "stdout",
     "output_type": "stream",
     "text": [
      "['Mawar', 'Melati', 'Jempiring']\n"
     ]
    }
   ],
   "source": [
    "#latihan list di python (6)\n",
    "\n",
    "#karena list sudah diubah, maka dianggap urutan list akan bertambah 1\n",
    "#\"Mawar\" = list ke 0 \n",
    "#\"Melati\" = list ke 1 \n",
    "#\"Anggrek\" = list ke 2 (urutannya tetep dihitung, tetapi pada list tidak akan ditampilkan)\n",
    "#\"Jempiring\" = list ke 3\n",
    "#\"Teratai\" = list ke 4\n",
    "\n",
    "#mencetak list urutan ke 0 sampai list urutan ke 3\n",
    "print(bunga[0:3])"
   ]
  },
  {
   "cell_type": "code",
   "execution_count": 17,
   "id": "63dacc54",
   "metadata": {},
   "outputs": [
    {
     "name": "stdout",
     "output_type": "stream",
     "text": [
      "['Melati', 'Jempiring', 'Teratai']\n"
     ]
    }
   ],
   "source": [
    "#latihan list di python (7)\n",
    "\n",
    "#list masih sama dengan list pada latihan 5\n",
    "#penjelasan urutan list juga sama pada latihan 6\n",
    "#karena tidak merubah list\n",
    "\n",
    "#mencetak list urutan ke 1 sampai list urutan ke 4\n",
    "print(bunga[1:4])"
   ]
  },
  {
   "cell_type": "code",
   "execution_count": 1,
   "id": "3b3b4c72",
   "metadata": {},
   "outputs": [
    {
     "name": "stdout",
     "output_type": "stream",
     "text": [
      "9\n"
     ]
    }
   ],
   "source": [
    "#latihan list di python (8)\n",
    "\n",
    "#pertama-tama pikirkan dan buat list yang diinginkan\n",
    "data = [1,2,4,6,3,5,8,9,7]\n",
    "terbesar = data[0]\n",
    "\n",
    "#mencari nilai terbesar dari suatu list dalam data\n",
    "for angka in data:\n",
    "    if angka > terbesar:\n",
    "        terbesar = angka\n",
    "print(terbesar)\n",
    "#sehingga hasil outputnya akan langsung menunjukkan nilai terbesar dari suatu list yang sudah dibuat"
   ]
  },
  {
   "cell_type": "code",
   "execution_count": 2,
   "id": "f929001c",
   "metadata": {},
   "outputs": [
    {
     "name": "stdout",
     "output_type": "stream",
     "text": [
      "[1, 2, 4, 5, 3, 6, 7, 8]\n"
     ]
    }
   ],
   "source": [
    "#latihan list di python (9)\n",
    "\n",
    "#pertama-tama pikirkan dan buat list yang diinginkan dengan data anggota kembar\n",
    "angka = [1,2,4,5,3,3,6,7,6,8,5,8,4,2,8,4]\n",
    "angka_unik = []\n",
    "\n",
    "#membuat list dengan tidak ada anggota yang kembar\n",
    "for anggota in angka:\n",
    "    if anggota not in angka_unik:\n",
    "        angka_unik.append(anggota)\n",
    "print(angka_unik)\n",
    "#sehingga hasil outputnya akan menunjukkan list data yang sudah dibuat tetapi anggotanya tidak ada yang kembar\n",
    "#urutan list outputnya juga akan sama pada list yang sudah dibuat, hanya saja menghilangkan 1 anggota yang nilainya kembar"
   ]
  },
  {
   "cell_type": "markdown",
   "id": "4bfe28b0",
   "metadata": {},
   "source": [
    "# 5.13 METODA LIST\n",
    "Karena list merupakan objek, maka keberadaannya dapat dimanipulasi dengan menambahkan atau menghilangkan isi nya.\n",
    "\n",
    "Berikut contoh latihan Metoda List:"
   ]
  },
  {
   "cell_type": "code",
   "execution_count": 13,
   "id": "e338e9fe",
   "metadata": {},
   "outputs": [
    {
     "name": "stdout",
     "output_type": "stream",
     "text": [
      "['Vina', 'Putri', 'Saras', 'Kumala']\n"
     ]
    }
   ],
   "source": [
    "#latihan metoda list (1)\n",
    "\n",
    "#fungsi append hanya menerima satu parameter saja. \n",
    "#parameter tersebut dimasukkan sebagai nilai baru pada list dan nilai baru tersebut berada pada akhir item.\n",
    "\n",
    "#pertama-tama pikirkan dan buat list yang diinginkan\n",
    "nama = [\"Vina\", \"Putri\", \"Saras\"]\n",
    "\n",
    "#kemudian kita melakukan penambahan data list baru dari sekumpulan data list di atas yang sudah dibuat\n",
    "#penambahan data list yang dimasukkan adalah \"Kumala\"\n",
    "nama.append(\"Kumala\")\n",
    "print(nama)\n",
    "#setelah dicetak jumlah list berjumlah dari 3 data akan menjadi 4 data"
   ]
  },
  {
   "cell_type": "code",
   "execution_count": 14,
   "id": "9143e759",
   "metadata": {},
   "outputs": [
    {
     "name": "stdout",
     "output_type": "stream",
     "text": [
      "['Winda', 'Vina', 'Putri', 'Saras', 'Kumala']\n"
     ]
    }
   ],
   "source": [
    "#latihan metoda list (2)\n",
    "\n",
    "#penggunaan fungsi insert dipakai untuk memasukkan data baru di bagian yang kita inginkan.\n",
    "\n",
    "#data list masih sama dengan latihan 1\n",
    "#terdapat 4 data list dengan urutan dari 0-3\n",
    "#\"Vina\" = urutan ke 0\n",
    "#\"Putri\" = urutan ke 1\n",
    "#\"Saras\" = urutan ke 2\n",
    "#\"Kumala\" = urutan ke 3\n",
    "\n",
    "#mencetak dengan menyisipkan data list baru yaitu \"Winda\" pada posisi indeks ke 0\n",
    "nama.insert(0,\"Winda\")\n",
    "print(nama)\n",
    "#setelah dicetak jumlah data list berjumlah 5 data"
   ]
  },
  {
   "cell_type": "code",
   "execution_count": 15,
   "id": "4e7c3836",
   "metadata": {},
   "outputs": [
    {
     "name": "stdout",
     "output_type": "stream",
     "text": [
      "['Winda', 'Putri', 'Saras', 'Kumala']\n"
     ]
    }
   ],
   "source": [
    "#latihan metoda list (3)\n",
    "\n",
    "#fungsi remove digunakan untuk menghapus list yang tidak diinginkan\n",
    "\n",
    "#data list masih sama dengan latihan 2\n",
    "#terdapat 5 data list dengan urutan dari 0-4\n",
    "#\"Winda\" = urutan ke 0\n",
    "#\"Vina\" = urutan ke 1\n",
    "#\"Putri\" = urutan ke 2\n",
    "#\"Saras\" = urutan ke 3\n",
    "#\"Kumala\" = urutan ke 4\n",
    "\n",
    "#mencetak data list dengan menghapus salah satu data list yaitu \"Vina\"\n",
    "nama.remove(\"Vina\")\n",
    "print(nama)"
   ]
  },
  {
   "cell_type": "code",
   "execution_count": 16,
   "id": "ee765cb3",
   "metadata": {},
   "outputs": [
    {
     "name": "stdout",
     "output_type": "stream",
     "text": [
      "False\n"
     ]
    }
   ],
   "source": [
    "#latihan metoda list (4)\n",
    "\n",
    "#data list masih sama dengan latihan 3\n",
    "#terdapat 4 data list dengan urutan dari 0-3\n",
    "#\"Winda\" = urutan ke 0\n",
    "#\"Putri\" = urutan ke 1\n",
    "#\"Saras\" = urutan ke 2\n",
    "#\"Kumala\" = urutan ke 3\n",
    "\n",
    "#menentukan True or False\n",
    "#mencetak apakah dalam list terdapat \"Vina\"\n",
    "print(\"Vina\" in nama) #karena data list dalam latihan (3) tidak terdapat \"Vina\", maka bernilai False"
   ]
  },
  {
   "cell_type": "code",
   "execution_count": 17,
   "id": "a4105d07",
   "metadata": {},
   "outputs": [
    {
     "name": "stdout",
     "output_type": "stream",
     "text": [
      "True\n"
     ]
    }
   ],
   "source": [
    "#latihan metoda list (5)\n",
    "\n",
    "#data list masih sama dengan latihan 3\n",
    "#terdapat 4 data list dengan urutan dari 0-3\n",
    "#\"Winda\" = urutan ke 0\n",
    "#\"Putri\" = urutan ke 1\n",
    "#\"Saras\" = urutan ke 2\n",
    "#\"Kumala\" = urutan ke 3\n",
    "\n",
    "#menentukan True or False\n",
    "#mencetak apakah dalam list terdapat \"Kumala\"\n",
    "print(\"Kumala\" in nama) #karena data list pada latihan 3 terdapat \"Kumala\", maka bernilai True"
   ]
  },
  {
   "cell_type": "code",
   "execution_count": 18,
   "id": "343f0d48",
   "metadata": {},
   "outputs": [
    {
     "name": "stdout",
     "output_type": "stream",
     "text": [
      "4\n"
     ]
    }
   ],
   "source": [
    "#latihan metoda list (6)\n",
    "\n",
    "#data list masih sama dengan latihan 3\n",
    "\n",
    "#menentukan jumlah list data\n",
    "print(len(nama)) #karena terdapat 4 data list, maka outputnya bernilai 4"
   ]
  },
  {
   "cell_type": "markdown",
   "id": "23f0c7f3",
   "metadata": {},
   "source": [
    "# 5.14 FOR LOOP\n",
    "Pengulangan for pada Python memiliki kemampuan untuk mengulangi item dari urutan apapun.\n",
    "\n",
    "Berikut contoh latihan For loop:"
   ]
  },
  {
   "cell_type": "code",
   "execution_count": 19,
   "id": "466cb933",
   "metadata": {},
   "outputs": [
    {
     "name": "stdout",
     "output_type": "stream",
     "text": [
      "Mawar\n",
      "Melati\n",
      "Anggrek\n",
      "Teratai\n"
     ]
    }
   ],
   "source": [
    "#latihan For loop (1)\n",
    "\n",
    "#pertama-tama pikirkan dan buat list yang diinginkan\n",
    "bunga = [\"Mawar\", \"Melati\", \"Anggrek\", \"Teratai\"]\n",
    "\n",
    "#membuat perulangan data list pada data \"bunga\"\n",
    "for jenis in bunga:\n",
    "    print(jenis)"
   ]
  },
  {
   "cell_type": "code",
   "execution_count": 1,
   "id": "c7b1574c",
   "metadata": {},
   "outputs": [
    {
     "name": "stdout",
     "output_type": "stream",
     "text": [
      "1\n",
      "2\n",
      "3\n",
      "4\n",
      "5\n"
     ]
    }
   ],
   "source": [
    "#latihan For loop (2)\n",
    "\n",
    "#pertama-tama pikirkan dan buat list yang diinginkan\n",
    "angka = [1, 2, 3, 4, 5] #tidak perlu diisi dengan tanda '\" \"' karena list yang dimasukkan bukan berupa kata, melainkan angka\n",
    "\n",
    "#membuat perulangan data list pada data \"angka\"\n",
    "for x in angka:\n",
    "    print(x)"
   ]
  },
  {
   "cell_type": "code",
   "execution_count": 2,
   "id": "6652df69",
   "metadata": {},
   "outputs": [
    {
     "name": "stdout",
     "output_type": "stream",
     "text": [
      "Saya suka makan buah nanas\n",
      "Saya suka makan buah apel\n",
      "Saya suka makan buah jeruk\n"
     ]
    }
   ],
   "source": [
    "#latihan For loop (3)\n",
    "\n",
    "#pertama-tama pikirkan dan buat list yang diinginkan\n",
    "buah = [\"nanas\", \"apel\", \"jeruk\"]\n",
    "\n",
    "#membuat perulangan data list pada data \"buah\", dengan menambahkan kata-kata yang diinginkan\n",
    "for makanan in buah:\n",
    "    print(\"Saya suka makan buah\", makanan)"
   ]
  },
  {
   "cell_type": "code",
   "execution_count": 6,
   "id": "550ec0b9",
   "metadata": {},
   "outputs": [
    {
     "name": "stdout",
     "output_type": "stream",
     "text": [
      "Saya berasal dari Provinsi Bali\n",
      "Saya berasal dari Kabupaten Tabanan\n",
      "Saya berasal dari Kecamatan Kediri\n"
     ]
    }
   ],
   "source": [
    "#latihan For loop (4)\n",
    "\n",
    "#pertama-tama pikirkan dan buat list yang diinginkan\n",
    "daerah = [\"Provinsi Bali\", \"Kabupaten Tabanan\", \"Kecamatan Kediri\"]\n",
    "\n",
    "#membuat perulangan data list pada data \"daerah\", dengan menggunakan kata-kata yang diinginkan\n",
    "for asal in daerah:\n",
    "    print(\"Saya berasal dari\", asal)"
   ]
  },
  {
   "cell_type": "markdown",
   "id": "2de6599f",
   "metadata": {},
   "source": [
    "# 5.15 FUNGSI RANGE\n",
    "Fungsi range berguna untuk membangkitkan bilangan berurutan atau berpola yang kita inginkan. Untuk menuliskannya, perlu dikombinasikan dengan for loop.\n",
    "\n",
    "Pada fungsi range:\n",
    "range(stop)\n",
    "range(start, stop, step)\n",
    "\n",
    "Argumen start adalah bilangan pertama yang diinginkan. Tapi, jika range() dipanggil hanya dengan satu argumen, maka Python akan menganggap start = 0. \n",
    "Argumen stop adalah batas akhir dari dari nilai yang diinginkan. Nilai dari stop tidak termasuk ke dalam nilai yang dibuatkan oleh fungsi range().\n",
    "Argumen step adalah jumlah loncatan yang diinginkan. Mulai dari nilai awal menuju batas nilai akhir dengan nilai loncatan yang diinginkan tersebut.\n",
    "\n",
    "Berikut contoh latihan Fungsi Range:"
   ]
  },
  {
   "cell_type": "code",
   "execution_count": 23,
   "id": "c5dc801a",
   "metadata": {},
   "outputs": [
    {
     "name": "stdout",
     "output_type": "stream",
     "text": [
      "range(0, 9)\n"
     ]
    }
   ],
   "source": [
    "#latihan fungsi range (1)\n",
    "\n",
    "#dalam latihan ini, kita meminta nilai dari range(9)\n",
    "angka = range(9)\n",
    "print(angka)\n",
    "#sesuai dengan penjelasan pada pendahuluan, maka output atau hasilnya adalah range(0, 9)\n",
    "#karena kita meminta nilai yang dimulai dari 0 hingga 8, yang sama artinya dengan range(0, 9)"
   ]
  },
  {
   "cell_type": "code",
   "execution_count": 24,
   "id": "93486838",
   "metadata": {},
   "outputs": [
    {
     "name": "stdout",
     "output_type": "stream",
     "text": [
      "0\n",
      "1\n",
      "2\n",
      "3\n",
      "4\n",
      "5\n",
      "6\n",
      "7\n",
      "8\n"
     ]
    }
   ],
   "source": [
    "#latihan fungsi range (2)\n",
    "\n",
    "#masih sama dengan fungsi range pada latihan 1, yaitu meminta nilai dari range(9)\n",
    "for isi in angka:\n",
    "    print(isi)\n",
    "#sesuai dengan penjelasan pada latihan 1, sudah dipastikan bahwa outputnya adalah nilai yang dimulai dari 0 hingga 8 (dari 0 hingga sebelum 9)"
   ]
  },
  {
   "cell_type": "code",
   "execution_count": 25,
   "id": "c41c8513",
   "metadata": {},
   "outputs": [
    {
     "name": "stdout",
     "output_type": "stream",
     "text": [
      "4\n",
      "5\n",
      "6\n",
      "7\n",
      "8\n"
     ]
    }
   ],
   "source": [
    "#latihan fungsi range (3)\n",
    "\n",
    "#dalam latihan ini, kita meminta nilai start = 4 dan nilai stop = 9\n",
    "#atau kata lain, kita meminta nilai dari 4 hingga 8 (dari 4 hingga sebelum 9)\n",
    "for isi in range(4,9):\n",
    "    print(isi)"
   ]
  },
  {
   "cell_type": "code",
   "execution_count": 29,
   "id": "c4467b1f",
   "metadata": {},
   "outputs": [
    {
     "name": "stdout",
     "output_type": "stream",
     "text": [
      "0\n",
      "3\n",
      "6\n",
      "9\n",
      "12\n"
     ]
    }
   ],
   "source": [
    "#latihan fungsi range (4)\n",
    "\n",
    "#dalam latihan ini, kita meminta nilai start = 0, stop = 15, dengan step = 3\n",
    "#atau kata lain, kita meminta nilai awal adalah 0 hingga batas akhir adalah 14, dengan nilai loncatan adalah 3\n",
    "for isi in range(0,15,3):\n",
    "    print(isi)"
   ]
  },
  {
   "cell_type": "code",
   "execution_count": 3,
   "id": "7e0ceb4a",
   "metadata": {},
   "outputs": [
    {
     "name": "stdout",
     "output_type": "stream",
     "text": [
      "-1\n",
      "1\n",
      "3\n"
     ]
    }
   ],
   "source": [
    "#latihan fungsi range (5)\n",
    "\n",
    "#dalam latihan ini, kita meminta nilai start = -1, stop = 5, dengan step = 2\n",
    "#atau kata lain, kita meminta nilai awal adalah -1 hingga batas akhir adalah 5, dengan nilai loncatan adalah 2\n",
    "for isi in range(-1,5,2):\n",
    "    print(isi)"
   ]
  }
 ],
 "metadata": {
  "kernelspec": {
   "display_name": "Python 3 (ipykernel)",
   "language": "python",
   "name": "python3"
  },
  "language_info": {
   "codemirror_mode": {
    "name": "ipython",
    "version": 3
   },
   "file_extension": ".py",
   "mimetype": "text/x-python",
   "name": "python",
   "nbconvert_exporter": "python",
   "pygments_lexer": "ipython3",
   "version": "3.9.13"
  }
 },
 "nbformat": 4,
 "nbformat_minor": 5
}

{
 "cells": [
  {
   "cell_type": "markdown",
   "id": "37c70a59",
   "metadata": {},
   "source": [
    "# TUGAS MINGGU KELIMA (MATA KULIAH ALGORITMA DAN STRUKTUR DATA)"
   ]
  },
  {
   "cell_type": "markdown",
   "id": "dd457283",
   "metadata": {},
   "source": [
    "# 5.16 LIST 2 DIMENSI\n",
    "List 2 dimensi pada umumnya adalah menempatkan sebuah list di dalam list. Penggambarannya seperti sebuah matrik.\n",
    "\n",
    "Berikut contoh latihan List 2 Dimensi:"
   ]
  },
  {
   "cell_type": "code",
   "execution_count": 1,
   "id": "70137564",
   "metadata": {},
   "outputs": [
    {
     "name": "stdout",
     "output_type": "stream",
     "text": [
      "[[11, 12, 13, 14], [15, 16, 17, 18], [19, 20, 21, 22], [23, 24, 25, 26]]\n"
     ]
    }
   ],
   "source": [
    "#latihan List 2 Dimensi (1)\n",
    "\n",
    "#pertama-tama pikirkan dan buat list yang diinginkan\n",
    "#dalam setiap list, urutannya masih sama pada materi list sebelumnya\n",
    "#yaitu dari kiri urutannya mulai dari 0, 1, 2, dan seterusnya, dan dari kanan urutannya mulai dari -1, -2, -3 dan seterusnya\n",
    "matrik = [ \n",
    "    [11,12,13,14], \n",
    "    [15,16,17,18],\n",
    "    [19,20,21,22],\n",
    "    [23,24,25,26]\n",
    "]\n",
    "#mencetak semua list yang ada dalam list\n",
    "print(matrik)"
   ]
  },
  {
   "cell_type": "code",
   "execution_count": 2,
   "id": "b801a668",
   "metadata": {},
   "outputs": [
    {
     "data": {
      "text/plain": [
       "[19, 20, 21, 22]"
      ]
     },
     "execution_count": 2,
     "metadata": {},
     "output_type": "execute_result"
    }
   ],
   "source": [
    "#latihan List 2 Dimensi (2)\n",
    "\n",
    "#list yang digunakan masih sama dengan latihan 1\n",
    "\n",
    "#list urutan ke 0 atau -4 adalah list [11,12,13,14]\n",
    "#dimana dalam list tersebut 11 = urutan ke 0 atau -4, 12 = urutan ke 1 atau -3, 13 = urutan ke 2 atau -2, dan 14 = urutan ke 3 atau -1\n",
    "\n",
    "#list urutan ke 1 atau -3 adalah list [15,16,17,18]\n",
    "#dimana dalam list tersebut 15 = urutan ke 0 atau -4, 16 = urutan ke 1 atau -3, 17 = urutan ke 2 atau -2, dan 18 = urutan ke 3 atau -1\n",
    "\n",
    "#list urutan ke 2 atau -2 adalah list [19,20,21,22]\n",
    "#dimana dalam list tersebut 19 = urutan ke 0 atau -4, 20 = urutan ke 1 atau -3, 21 = urutan ke 2 atau -2, dan 22 = urutan ke 3 atau -1\n",
    "\n",
    "#list urutan ke 3 atau -1 adalah list [23,24,25,26]\n",
    "#dimana dalam list tersebut 23 = urutan ke 0 atau -4, 24 = urutan ke 1 atau -3, 25 = urutan ke 2 atau -2, dan 26 = urutan ke 3 atau -1\n",
    "\n",
    "#sehingga ketika kita ingin mencetak list pada urutan ke -2 yaitu dengan aturan:\n",
    "matrik[-2]"
   ]
  },
  {
   "cell_type": "code",
   "execution_count": 3,
   "id": "3e8e338d",
   "metadata": {},
   "outputs": [
    {
     "data": {
      "text/plain": [
       "22"
      ]
     },
     "execution_count": 3,
     "metadata": {},
     "output_type": "execute_result"
    }
   ],
   "source": [
    "#latihan List 2 Dimensi (3)\n",
    "\n",
    "#list yang digunakan masih sama dengan latihan 1\n",
    "#untuk penjelasan urutannya juga sama dengan latihan 2\n",
    "\n",
    "#ketika kita ingin mencetak list pada urutan ke 3, yang dimana list tersebut berada dalam list urutan ke -2, yaitu dengan menggunakan aturan:\n",
    "matrik[-2][3]"
   ]
  },
  {
   "cell_type": "code",
   "execution_count": 5,
   "id": "8f6a0f05",
   "metadata": {},
   "outputs": [
    {
     "name": "stdout",
     "output_type": "stream",
     "text": [
      "50\n"
     ]
    }
   ],
   "source": [
    "#latihan List 2 Dimensi (4)\n",
    "\n",
    "#list yang digunakan masih sama dengan latihan 1\n",
    "#untuk penjelasan urutannya juga sama dengan latihan 2\n",
    "\n",
    "#ketika kita ingin mengubah dan mencetak list pada urutan ke 3, yang dimana list tersebut berada dalam list urutan ke -2, yaitu dengan aturan:\n",
    "#misalkan ingin mengubah 22 menjadi 50\n",
    "matrik[-2][3] = 50\n",
    "print(matrik[-2][3])"
   ]
  },
  {
   "cell_type": "code",
   "execution_count": 6,
   "id": "bec5b128",
   "metadata": {},
   "outputs": [
    {
     "data": {
      "text/plain": [
       "[[11, 12, 13, 14], [15, 16, 17, 18], [19, 20, 21, 50], [23, 24, 25, 26]]"
      ]
     },
     "execution_count": 6,
     "metadata": {},
     "output_type": "execute_result"
    }
   ],
   "source": [
    "#latihan List 2 Dimensi (5)\n",
    "\n",
    "#list yang digunakan masih sama dengan latihan 1\n",
    "#untuk penjelasan urutannya masih sama dengan latihan 2\n",
    "#hanya saja dalam list pada urutan ke 3, yang dimana list tersebut berada dalam list urutan ke -2 sudah diubah menjadi 50\n",
    "\n",
    "#sehingga jika kita mencetak ulang semua list akan seperti berikut ini:\n",
    "matrik"
   ]
  },
  {
   "cell_type": "code",
   "execution_count": 7,
   "id": "1f981680",
   "metadata": {},
   "outputs": [
    {
     "name": "stdout",
     "output_type": "stream",
     "text": [
      "[11, 12, 13, 14]\n",
      "11\n",
      "12\n",
      "13\n",
      "14\n",
      "[15, 16, 17, 18]\n",
      "15\n",
      "16\n",
      "17\n",
      "18\n",
      "[19, 20, 21, 50]\n",
      "19\n",
      "20\n",
      "21\n",
      "50\n",
      "[23, 24, 25, 26]\n",
      "23\n",
      "24\n",
      "25\n",
      "26\n"
     ]
    }
   ],
   "source": [
    "#latihan List 2 Dimensi (6)\n",
    "\n",
    "#dari latihan 5, kita sudah mencetak list baru\n",
    "#sehingga ketika kita ingin memanggil anggota dari list tersebut yaitu dengan aturan:\n",
    "for baris in matrik:\n",
    "    print(baris)\n",
    "    for kolom in baris:\n",
    "        print(kolom)"
   ]
  },
  {
   "cell_type": "markdown",
   "id": "c5410bb4",
   "metadata": {},
   "source": [
    "# 5.17 TUPLES\n",
    "Tuples mirip dengan list, akan tetapi tuples tidak dapat dirubah isinya. Jika kita memiliki data yang tidak ingin dirubah isinya, kita gunakan tuples, sedangkan jika datanya masih ingin dimanipulasi kedepannya, gunakan list.\n",
    "\n",
    "Berikut contoh latihan Tuples:"
   ]
  },
  {
   "cell_type": "code",
   "execution_count": 1,
   "id": "dc9f38f2",
   "metadata": {},
   "outputs": [
    {
     "name": "stdout",
     "output_type": "stream",
     "text": [
      "5\n"
     ]
    }
   ],
   "source": [
    "#latihan Tuples (1)\n",
    "\n",
    "#pertama-tama pikirkan dan buat data yang diinginkan\n",
    "angka = (3,4,5,5,6,7)\n",
    "\n",
    "#dalam tuples, urutan dalam datanya masih sama seperti list\n",
    "#3 = urutan ke 0 atau -6\n",
    "#4 = urutan ke 1 atau -5\n",
    "#5 (sebelah kiri) = urutan ke 2 atau -4\n",
    "#5 (sebelah kanan) = urutan ke 3 atau -3\n",
    "#6 = urutan ke 4 atau -2\n",
    "#7 = urutan ke 5 atau -1\n",
    "\n",
    "#ketika kita ingin mencetak data ke 3 dalam tumples, yaitu menggunakan cara sebagai berikut:\n",
    "print(angka[3])"
   ]
  },
  {
   "cell_type": "code",
   "execution_count": 2,
   "id": "a3c98fc8",
   "metadata": {},
   "outputs": [
    {
     "name": "stdout",
     "output_type": "stream",
     "text": [
      "(4, 5, 5, 6)\n"
     ]
    }
   ],
   "source": [
    "#latihan Tuples (2)\n",
    "\n",
    "#data yang digunakan masih sama dengan latihan 1\n",
    "#untuk penjelasan urutannya juga sama pada latihan 1\n",
    "\n",
    "#cara mencetak data dari urutan ke -5 dengan batas sebelum -1, yaitu sebagai berikut:\n",
    "print(angka[-5:-1])"
   ]
  },
  {
   "cell_type": "code",
   "execution_count": 3,
   "id": "832fe56b",
   "metadata": {},
   "outputs": [
    {
     "name": "stdout",
     "output_type": "stream",
     "text": [
      "4\n",
      "5\n",
      "5\n",
      "6\n"
     ]
    }
   ],
   "source": [
    "#latihan Tuples (3)\n",
    "\n",
    "#data yang digunakan masih sama dengan latihan 1\n",
    "#untuk penjelasan urutannya juga sama pada latihan 1 \n",
    "\n",
    "#cara untuk memanggil semua anggota data dari urutan ke -5 dengan batas sebelum -1, yaitu sebagai berikut:\n",
    "for isi in angka[-5:-1]:\n",
    "    print(isi)"
   ]
  },
  {
   "cell_type": "code",
   "execution_count": 4,
   "id": "dc0b3f57",
   "metadata": {},
   "outputs": [
    {
     "ename": "TypeError",
     "evalue": "'tuple' object does not support item assignment",
     "output_type": "error",
     "traceback": [
      "\u001b[1;31m---------------------------------------------------------------------------\u001b[0m",
      "\u001b[1;31mTypeError\u001b[0m                                 Traceback (most recent call last)",
      "\u001b[1;32m~\\AppData\\Local\\Temp\\ipykernel_7860\\977894051.py\u001b[0m in \u001b[0;36m<module>\u001b[1;34m\u001b[0m\n\u001b[1;32m----> 1\u001b[1;33m \u001b[0mangka\u001b[0m\u001b[1;33m[\u001b[0m\u001b[1;36m2\u001b[0m\u001b[1;33m]\u001b[0m \u001b[1;33m=\u001b[0m \u001b[1;36m50\u001b[0m\u001b[1;33m\u001b[0m\u001b[1;33m\u001b[0m\u001b[0m\n\u001b[0m",
      "\u001b[1;31mTypeError\u001b[0m: 'tuple' object does not support item assignment"
     ]
    }
   ],
   "source": [
    "#latihan Tuples (4)\n",
    "\n",
    "angka[2] = 50\n",
    "#karena Tuples tidak dapat dirubah datanya, maka outputnya tidak muncul (error)"
   ]
  },
  {
   "cell_type": "code",
   "execution_count": 5,
   "id": "3d6fa438",
   "metadata": {},
   "outputs": [
    {
     "ename": "AttributeError",
     "evalue": "'tuple' object has no attribute 'append'",
     "output_type": "error",
     "traceback": [
      "\u001b[1;31m---------------------------------------------------------------------------\u001b[0m",
      "\u001b[1;31mAttributeError\u001b[0m                            Traceback (most recent call last)",
      "\u001b[1;32m~\\AppData\\Local\\Temp\\ipykernel_7860\\3575525230.py\u001b[0m in \u001b[0;36m<module>\u001b[1;34m\u001b[0m\n\u001b[0;32m      1\u001b[0m \u001b[1;31m#latihan Tuples (5)\u001b[0m\u001b[1;33m\u001b[0m\u001b[1;33m\u001b[0m\u001b[0m\n\u001b[0;32m      2\u001b[0m \u001b[1;33m\u001b[0m\u001b[0m\n\u001b[1;32m----> 3\u001b[1;33m \u001b[0mangka\u001b[0m\u001b[1;33m.\u001b[0m\u001b[0mappend\u001b[0m\u001b[1;33m(\u001b[0m\u001b[1;36m2\u001b[0m\u001b[1;33m)\u001b[0m\u001b[1;33m\u001b[0m\u001b[1;33m\u001b[0m\u001b[0m\n\u001b[0m\u001b[0;32m      4\u001b[0m \u001b[1;31m#karena Tuples tidak dapat dirubah datanya, maka outputnya tidak muncul (error)\u001b[0m\u001b[1;33m\u001b[0m\u001b[1;33m\u001b[0m\u001b[0m\n",
      "\u001b[1;31mAttributeError\u001b[0m: 'tuple' object has no attribute 'append'"
     ]
    }
   ],
   "source": [
    "#latihan Tuples (5)\n",
    "\n",
    "angka.append(2)\n",
    "#karena Tuples tidak dapat dirubah datanya, maka outputnya tidak muncul (error)"
   ]
  },
  {
   "cell_type": "code",
   "execution_count": 6,
   "id": "40e04d9d",
   "metadata": {},
   "outputs": [
    {
     "ename": "AttributeError",
     "evalue": "'tuple' object has no attribute 'remove'",
     "output_type": "error",
     "traceback": [
      "\u001b[1;31m---------------------------------------------------------------------------\u001b[0m",
      "\u001b[1;31mAttributeError\u001b[0m                            Traceback (most recent call last)",
      "\u001b[1;32m~\\AppData\\Local\\Temp\\ipykernel_7860\\158557838.py\u001b[0m in \u001b[0;36m<module>\u001b[1;34m\u001b[0m\n\u001b[0;32m      1\u001b[0m \u001b[1;31m#latihan Tuples (6)\u001b[0m\u001b[1;33m\u001b[0m\u001b[1;33m\u001b[0m\u001b[0m\n\u001b[0;32m      2\u001b[0m \u001b[1;33m\u001b[0m\u001b[0m\n\u001b[1;32m----> 3\u001b[1;33m \u001b[0mangka\u001b[0m\u001b[1;33m.\u001b[0m\u001b[0mremove\u001b[0m\u001b[1;33m(\u001b[0m\u001b[1;36m4\u001b[0m\u001b[1;33m)\u001b[0m\u001b[1;33m\u001b[0m\u001b[1;33m\u001b[0m\u001b[0m\n\u001b[0m\u001b[0;32m      4\u001b[0m \u001b[1;31m#karena Tuples tidak dapat dirubah datanya, maka outputnya tidak muncul (error)\u001b[0m\u001b[1;33m\u001b[0m\u001b[1;33m\u001b[0m\u001b[0m\n",
      "\u001b[1;31mAttributeError\u001b[0m: 'tuple' object has no attribute 'remove'"
     ]
    }
   ],
   "source": [
    "#latihan Tuples (6)\n",
    "\n",
    "angka.remove(4)\n",
    "#karena Tuples tidak dapat dirubah datanya, maka outputnya tidak muncul (error)"
   ]
  },
  {
   "cell_type": "code",
   "execution_count": 7,
   "id": "312b1e1c",
   "metadata": {},
   "outputs": [
    {
     "data": {
      "text/plain": [
       "5"
      ]
     },
     "execution_count": 7,
     "metadata": {},
     "output_type": "execute_result"
    }
   ],
   "source": [
    "#latihan Tuples (7)\n",
    "\n",
    "#data yang digunakan masih sama dengan latihan 1\n",
    "#untuk penjelasan urutannya juga sama pada latihan 1 (langkah manual)\n",
    "\n",
    "#cara untuk mengetahui dan memastikan anggota data \"7\" pada urutan keberapa, yaitu sebagai berikut:\n",
    "angka.index(7)\n",
    "\n",
    "#hasil output sama dengan langkah manual"
   ]
  },
  {
   "cell_type": "code",
   "execution_count": 8,
   "id": "bfd08d2b",
   "metadata": {},
   "outputs": [
    {
     "data": {
      "text/plain": [
       "1"
      ]
     },
     "execution_count": 8,
     "metadata": {},
     "output_type": "execute_result"
    }
   ],
   "source": [
    "#latihan Tuples (8)\n",
    "\n",
    "#data yang digunakan masih sama dengan latihan 1\n",
    "#untuk penjelasan urutannya juga sama pada latihan 1 (langkah manual)\n",
    "\n",
    "#cara untuk mengetahui dan memastikan anggota data \"4\" pada urutan keberapa, yaitu sebagai berikut:\n",
    "angka.index(4)\n",
    "\n",
    "#hasil output sama dengan langkah manual"
   ]
  },
  {
   "cell_type": "code",
   "execution_count": 9,
   "id": "119b0f27",
   "metadata": {},
   "outputs": [
    {
     "data": {
      "text/plain": [
       "2"
      ]
     },
     "execution_count": 9,
     "metadata": {},
     "output_type": "execute_result"
    }
   ],
   "source": [
    "#latihan Tuples (9)\n",
    "\n",
    "#data yang digunakan masih sama dengan latihan 1\n",
    "#untuk penjelasan urutannya juga sama pada latihan 1\n",
    "\n",
    "#cara untuk mengetahui anggota data \"5\" ada berapa, yaitu sebagai berikut:\n",
    "angka.count(5)\n",
    "\n",
    "#karena anggota \"5\" dalam data ada 2, maka hasil output nya adalah 2"
   ]
  },
  {
   "cell_type": "code",
   "execution_count": 10,
   "id": "3f76027e",
   "metadata": {},
   "outputs": [
    {
     "data": {
      "text/plain": [
       "1"
      ]
     },
     "execution_count": 10,
     "metadata": {},
     "output_type": "execute_result"
    }
   ],
   "source": [
    "#latihan Tuples (10)\n",
    "\n",
    "#data yang digunakan masih sama dengan latihan 1\n",
    "#untuk penjelasan urutannya juga sama pada latihan 1\n",
    "\n",
    "#cara untuk mengetahui anggota data \"3\" ada berapa, yaitu sebagai berikut:\n",
    "angka.count(3)\n",
    "\n",
    "#karena anggota \"3\" dalam data ada 1, maka hasil output nya adalah 2"
   ]
  },
  {
   "cell_type": "markdown",
   "id": "a00bfb76",
   "metadata": {},
   "source": [
    "# 5.18 DICTIONARIES\n",
    "Dictionaries digunakan jika data nya terkait satu sama lain. Misalnya data seseorang yang terdiri dari umur, nama, tanggal lahir merupakan satu kesatuan data yang bersumber dari orang tersebut.\n",
    "\n",
    "Berikut contoh latihan Dictionaries:"
   ]
  },
  {
   "cell_type": "code",
   "execution_count": 37,
   "id": "a98fd942",
   "metadata": {},
   "outputs": [
    {
     "name": "stdout",
     "output_type": "stream",
     "text": [
      "{'Nama': 'Wulanda Asmara', 'Umur': 19, 'Seorang_mahasiswa': True}\n"
     ]
    }
   ],
   "source": [
    "#latihan dictionaries (1)\n",
    "\n",
    "#pertama_tama buat data yang ingin dijalankan\n",
    "data_orang = {\n",
    "    \"Nama\" : \"Wulanda Asmara\",\n",
    "    \"Umur\" : 19,\n",
    "    \"Seorang_mahasiswa\" : True\n",
    "}\n",
    "\n",
    "#mencetak data yang sudah dibuat\n",
    "print(data_orang)"
   ]
  },
  {
   "cell_type": "code",
   "execution_count": 38,
   "id": "bfb3eb04",
   "metadata": {},
   "outputs": [
    {
     "name": "stdout",
     "output_type": "stream",
     "text": [
      "Wulanda Asmara\n"
     ]
    }
   ],
   "source": [
    "#latihan dictionaries (2)\n",
    "\n",
    "#mencetak data nama berdasarkan data yang sudah dibuat\n",
    "print(data_orang[\"Nama\"])"
   ]
  },
  {
   "cell_type": "code",
   "execution_count": 40,
   "id": "201341bc",
   "metadata": {},
   "outputs": [
    {
     "ename": "KeyError",
     "evalue": "'nama'",
     "output_type": "error",
     "traceback": [
      "\u001b[1;31m---------------------------------------------------------------------------\u001b[0m",
      "\u001b[1;31mKeyError\u001b[0m                                  Traceback (most recent call last)",
      "\u001b[1;32m~\\AppData\\Local\\Temp\\ipykernel_7860\\679498923.py\u001b[0m in \u001b[0;36m<module>\u001b[1;34m\u001b[0m\n\u001b[0;32m      2\u001b[0m \u001b[1;33m\u001b[0m\u001b[0m\n\u001b[0;32m      3\u001b[0m \u001b[1;31m#mencetak data nama berdasarkan data yang sudah dibuat\u001b[0m\u001b[1;33m\u001b[0m\u001b[1;33m\u001b[0m\u001b[0m\n\u001b[1;32m----> 4\u001b[1;33m \u001b[0mprint\u001b[0m\u001b[1;33m(\u001b[0m\u001b[0mdata_orang\u001b[0m\u001b[1;33m[\u001b[0m\u001b[1;34m\"nama\"\u001b[0m\u001b[1;33m]\u001b[0m\u001b[1;33m)\u001b[0m\u001b[1;33m\u001b[0m\u001b[1;33m\u001b[0m\u001b[0m\n\u001b[0m",
      "\u001b[1;31mKeyError\u001b[0m: 'nama'"
     ]
    }
   ],
   "source": [
    "#latihan dictionaries (3)\n",
    "\n",
    "#mencetak data nama berdasarkan data yang sudah dibuat\n",
    "print(data_orang[\"nama\"])\n",
    "#karena dalam data ditulis \"Nama\" bukan \"nama\" sehingga outputnya error"
   ]
  },
  {
   "cell_type": "code",
   "execution_count": 41,
   "id": "3b5b901a",
   "metadata": {},
   "outputs": [
    {
     "name": "stdout",
     "output_type": "stream",
     "text": [
      "Wulanda Asmara\n"
     ]
    }
   ],
   "source": [
    "#latihan dictionaries (4)\n",
    "\n",
    "#mencetak data nama berdasarkan data yang sudah dibuat\n",
    "print(data_orang.get(\"Nama\"))"
   ]
  },
  {
   "cell_type": "code",
   "execution_count": 39,
   "id": "cbc89ec8",
   "metadata": {},
   "outputs": [
    {
     "name": "stdout",
     "output_type": "stream",
     "text": [
      "None\n"
     ]
    }
   ],
   "source": [
    "#latihan dictionaries (5)\n",
    "\n",
    "#mencetak data nama berdasarkan data yang sudah dibuat\n",
    "print(data_orang.get(\"nama\"))\n",
    "#karena dalam data ditulis \"Nama\" bukan \"nama\" sehingga outputnya \"none (tidak ada)\""
   ]
  },
  {
   "cell_type": "code",
   "execution_count": 43,
   "id": "e8e992a2",
   "metadata": {},
   "outputs": [
    {
     "name": "stdout",
     "output_type": "stream",
     "text": [
      "7-11-2003\n"
     ]
    }
   ],
   "source": [
    "#latihan dictionaries (6)\n",
    "\n",
    "#menambahkan dan mencetak data tanggal lahir yang diinginkan\n",
    "print(data_orang.get(\"Tanggal_lahir\", \"7-11-2003\"))"
   ]
  },
  {
   "cell_type": "code",
   "execution_count": 45,
   "id": "538ff233",
   "metadata": {},
   "outputs": [
    {
     "name": "stdout",
     "output_type": "stream",
     "text": [
      "082147380230\n"
     ]
    }
   ],
   "source": [
    "#latihan dictionaries (7)\n",
    "\n",
    "#menambahkan dan mencetak data no HP yang diinginkan\n",
    "data_orang[\"HP\"] = \"082147380230\"\n",
    "print(data_orang[\"HP\"])"
   ]
  },
  {
   "cell_type": "code",
   "execution_count": 46,
   "id": "b9f7a2eb",
   "metadata": {},
   "outputs": [],
   "source": [
    "#membuat data program yang ingin dijalankan\n",
    "angka = {\n",
    "    \"0\" : \"nol\",\n",
    "    \"1\" : \"satu\",\n",
    "    \"2\" : \"dua\",\n",
    "    \"3\" : \"tiga\",\n",
    "    \"4\" : \"empat\",\n",
    "    \"5\" : \"lima\",\n",
    "    \"6\" : \"enam\",\n",
    "    \"7\" : \"tujuh\",\n",
    "    \"8\" : \"delapan\",\n",
    "    \"9\" : \"sembilan\",\n",
    "}"
   ]
  },
  {
   "cell_type": "code",
   "execution_count": 47,
   "id": "6bab58df",
   "metadata": {},
   "outputs": [
    {
     "name": "stdout",
     "output_type": "stream",
     "text": [
      "Masukkan NIM Anda : 2208541017\n",
      "dua dua nol delapan lima empat satu nol satu tujuh \n"
     ]
    }
   ],
   "source": [
    "#latihan dictionaries (8)\n",
    "\n",
    "#berikut latihan untuk merubah angka menjadi sebutan bilangan tersebut\n",
    "\n",
    "#mengimput data berupa angka\n",
    "NIM = input(\"Masukkan NIM Anda : \")\n",
    "nomor_angka = \"\"\n",
    "for isi in NIM:\n",
    "    nomor_angka += angka.get(isi) + \" \"\n",
    "    \n",
    "#mencetak data berupa sebutan bilangan\n",
    "print(nomor_angka)"
   ]
  },
  {
   "cell_type": "markdown",
   "id": "ab9badb9",
   "metadata": {},
   "source": [
    "# 5.19 FUNGSI DALAM PYTHON\n",
    "Tanpa disadari kita telah menerapkan beberapa jenis fungsi pada Python seperti fungsi input, print, len, range, dll. Pada dasarnya fungsi dibentuk untuk menghidari pengulangan pembuatan program secara manual dimana fungsi tersebut memiliki pengulangan yang tinggi dalam program yang kita buat. Jadi untuk mempermudah dan meringkas program yang kita buat, setiap fungsi tersebut dibutuhkan tinggal kita panggil.\n",
    "\n",
    "Berikut contoh latihan Fungsi dalam Python:"
   ]
  },
  {
   "cell_type": "code",
   "execution_count": 35,
   "id": "46ecc610",
   "metadata": {},
   "outputs": [],
   "source": [
    "#membuat program yang ingin dijalankan\n",
    "def full_nama(first_name, last_name):\n",
    "    print(f\"Nama lengkapnya adalah {first_name} {last_name}\")"
   ]
  },
  {
   "cell_type": "code",
   "execution_count": 36,
   "id": "b60fdd2c",
   "metadata": {},
   "outputs": [
    {
     "name": "stdout",
     "output_type": "stream",
     "text": [
      "Nama depan mu adalah : Wulanda\n",
      "Nama belakang mu adalah : Asmara\n",
      "Nama lengkapnya adalah Wulanda Asmara\n"
     ]
    }
   ],
   "source": [
    "#latihan 1\n",
    "\n",
    "#menginput nama depan dan nama belakang yang diinginkan\n",
    "first_name = input(\"Nama depan mu adalah : \")\n",
    "last_name = input(\"Nama belakang mu adalah : \")\n",
    "\n",
    "#menggabungkan nama depan dan nama belakang yang sudah diinput\n",
    "full_nama(first_name,last_name)"
   ]
  },
  {
   "cell_type": "markdown",
   "id": "3e863fd1",
   "metadata": {},
   "source": [
    "# 5.19.1 Tugas Fungsi pada Python\n",
    "Ada dua jenis tugas fungsi pada Python yaitu:\n",
    "    - Menjalankan perintah.\n",
    "    - Menampilkan hasil perhitungan.\n",
    "    \n",
    "Berikut contoh latihannya:"
   ]
  },
  {
   "cell_type": "code",
   "execution_count": 13,
   "id": "592152d0",
   "metadata": {},
   "outputs": [],
   "source": [
    "#membuat program yang ingin dijalankan\n",
    "def waktu_sampai(jarak, kecepatan):\n",
    "    waktu = jarak/kecepatan\n",
    "    print(waktu)"
   ]
  },
  {
   "cell_type": "code",
   "execution_count": 14,
   "id": "18bc7866",
   "metadata": {},
   "outputs": [],
   "source": [
    "#membuat program yang ingin dijalankan\n",
    "def waktu_tempuh(jarak, kecepatan):\n",
    "    waktu = jarak/kecepatan\n",
    "    return waktu"
   ]
  },
  {
   "cell_type": "code",
   "execution_count": 16,
   "id": "81336e6e",
   "metadata": {},
   "outputs": [
    {
     "name": "stdout",
     "output_type": "stream",
     "text": [
      "2.0\n"
     ]
    }
   ],
   "source": [
    "#latihan 1\n",
    "\n",
    "#menentukan waktu sampai sesuai definisi program yang sudah dibuat\n",
    "waktu_sampai(90,45)"
   ]
  },
  {
   "cell_type": "code",
   "execution_count": 17,
   "id": "f34e235d",
   "metadata": {},
   "outputs": [
    {
     "data": {
      "text/plain": [
       "2.0"
      ]
     },
     "execution_count": 17,
     "metadata": {},
     "output_type": "execute_result"
    }
   ],
   "source": [
    "#latihan 2\n",
    "\n",
    "#menentukan waktu sampai sesuai definisi program yang sudah dibuat\n",
    "waktu_tempuh(90,45)"
   ]
  },
  {
   "cell_type": "code",
   "execution_count": 32,
   "id": "11b393d7",
   "metadata": {},
   "outputs": [
    {
     "name": "stdout",
     "output_type": "stream",
     "text": [
      "1.25\n",
      "None\n"
     ]
    }
   ],
   "source": [
    "#latihan 3\n",
    "\n",
    "#menentukan waktu sampai sesuai definisi program yang sudah dibuat\n",
    "x = waktu_sampai(100,80)\n",
    "print(x)"
   ]
  },
  {
   "cell_type": "code",
   "execution_count": 33,
   "id": "899e67bd",
   "metadata": {},
   "outputs": [
    {
     "name": "stdout",
     "output_type": "stream",
     "text": [
      "1.25\n"
     ]
    }
   ],
   "source": [
    "#latihan 4\n",
    "\n",
    "#menentukan waktu sampai sesuai definisi program yang sudah dibuat\n",
    "y = waktu_tempuh(100,80)\n",
    "print(y)"
   ]
  },
  {
   "cell_type": "code",
   "execution_count": 23,
   "id": "810ea62d",
   "metadata": {},
   "outputs": [],
   "source": [
    "#membuat program yang ingin dijalankan\n",
    "def luas_segitiga(alas,tinggi):\n",
    "    luas = (1/2)*alas*tinggi\n",
    "    return luas"
   ]
  },
  {
   "cell_type": "code",
   "execution_count": 24,
   "id": "a5ba73f9",
   "metadata": {},
   "outputs": [
    {
     "data": {
      "text/plain": [
       "20.0"
      ]
     },
     "execution_count": 24,
     "metadata": {},
     "output_type": "execute_result"
    }
   ],
   "source": [
    "#latihan 5\n",
    "\n",
    "#menentukan luas segitiga sesuai definisi program yang sudah dibuat\n",
    "luas_segitiga(5,8)"
   ]
  },
  {
   "cell_type": "code",
   "execution_count": 27,
   "id": "3a4a8afe",
   "metadata": {},
   "outputs": [],
   "source": [
    "#membuat program yang ingin dijalankan\n",
    "def luas_persegi(sisi):\n",
    "    luas = sisi**2\n",
    "    return luas"
   ]
  },
  {
   "cell_type": "code",
   "execution_count": 28,
   "id": "66977682",
   "metadata": {},
   "outputs": [
    {
     "data": {
      "text/plain": [
       "196"
      ]
     },
     "execution_count": 28,
     "metadata": {},
     "output_type": "execute_result"
    }
   ],
   "source": [
    "#latihan 6\n",
    "\n",
    "#menentukan luas persegi sesuai definisi program yang sudah dibuat\n",
    "luas_persegi(14)"
   ]
  },
  {
   "cell_type": "code",
   "execution_count": 29,
   "id": "ed0fbb1a",
   "metadata": {},
   "outputs": [
    {
     "name": "stdout",
     "output_type": "stream",
     "text": [
      "Tulis jenis bidangnya : PERSEGI\n",
      "Tuliskan panjang sisinya : 8\n",
      "Luas PERSEGI adalah 64.0\n"
     ]
    }
   ],
   "source": [
    "#latihan 7\n",
    "\n",
    "#menginput jenis bidang yang diinginkan\n",
    "jenis_bidang = input(\"Tulis jenis bidangnya : \")\n",
    "if jenis_bidang.upper() == \"SEGITIGA\":\n",
    "    alas = float(input(\"Tuliskan panjang alasnya : \"))\n",
    "    tinggi = float(input(\"Tuliskan tingginya : \"))\n",
    "    luas = luas_segitiga(alas,tinggi)\n",
    "    print(f\"Luas {jenis_bidang} adalah {luas}\")\n",
    "elif jenis_bidang.upper() == \"PERSEGI\":\n",
    "    sisi = float(input(\"Tuliskan panjang sisinya : \"))\n",
    "    luas = luas_persegi(sisi)\n",
    "    print(f\"Luas {jenis_bidang} adalah {luas}\")\n",
    "\n",
    "#jika bidang yang diinput tidak ada dalam program yang dibuat, maka hasil output nya akan muncul seperti berikut:\n",
    "else:\n",
    "    print(f\"Maaf bidang {jenis_bidang} yang kamu masukkan tidak terdaftar.\")\n",
    "    print(\"Hanya ada pilihan SEGITIGA DAN PERSEGI.\")\n",
    "    print(\"Terima kasih.\")"
   ]
  },
  {
   "cell_type": "code",
   "execution_count": 30,
   "id": "b8aba5b1",
   "metadata": {},
   "outputs": [
    {
     "name": "stdout",
     "output_type": "stream",
     "text": [
      "Tulis jenis bidangnya : LINGKARAN\n",
      "Maaf bidang LINGKARAN yang kamu masukkan tidak terdaftar.\n",
      "Hanya ada pilihan SEGITIGA DAN PERSEGI.\n",
      "Terima kasih.\n"
     ]
    }
   ],
   "source": [
    "#latihan 8\n",
    "\n",
    "#menginput jenis bidang yang diinginkan\n",
    "jenis_bidang = input(\"Tulis jenis bidangnya : \")\n",
    "if jenis_bidang.upper() == \"SEGITIGA\":\n",
    "    alas = float(input(\"Tuliskan panjang alasnya : \"))\n",
    "    tinggi = float(input(\"Tuliskan tingginya : \"))\n",
    "    luas = luas_segitiga(alas,tinggi)\n",
    "    print(f\"Luas {jenis_bidang} adalah {luas}\")\n",
    "elif jenis_bidang.upper() == \"PERSEGI\":\n",
    "    sisi = float(input(\"Tuliskan panjang sisinya : \"))\n",
    "    luas = luas_persegi(sisi)\n",
    "    print(f\"Luas {jenis_bidang} adalah {luas}\")\n",
    "    \n",
    "#jika bidang yang diinput tidak ada dalam program yang dibuat, maka hasil output nya akan muncul seperti berikut:\n",
    "else:\n",
    "    print(f\"Maaf bidang {jenis_bidang} yang kamu masukkan tidak terdaftar.\")\n",
    "    print(\"Hanya ada pilihan SEGITIGA DAN PERSEGI.\")\n",
    "    print(\"Terima kasih.\")"
   ]
  },
  {
   "cell_type": "code",
   "execution_count": 31,
   "id": "a6a27fdc",
   "metadata": {},
   "outputs": [
    {
     "name": "stdout",
     "output_type": "stream",
     "text": [
      "Tulis jenis bidangnya : SEGITIGA\n",
      "Tuliskan panjang alasnya : 10\n",
      "Tuliskan tingginya : 15\n",
      "Luas SEGITIGA adalah 75.0\n"
     ]
    }
   ],
   "source": [
    "#latihan 9\n",
    "\n",
    "#menginput jenis bidang yang diinginkan\n",
    "jenis_bidang = input(\"Tulis jenis bidangnya : \")\n",
    "if jenis_bidang.upper() == \"SEGITIGA\":\n",
    "    alas = float(input(\"Tuliskan panjang alasnya : \"))\n",
    "    tinggi = float(input(\"Tuliskan tingginya : \"))\n",
    "    luas = luas_segitiga(alas,tinggi)\n",
    "    print(f\"Luas {jenis_bidang} adalah {luas}\")\n",
    "elif jenis_bidang.upper() == \"PERSEGI\":\n",
    "    sisi = float(input(\"Tuliskan panjang sisinya : \"))\n",
    "    luas = luas_persegi(sisi)\n",
    "    print(f\"Luas {jenis_bidang} adalah {luas}\")\n",
    "\n",
    "#jika bidang yang diinput tidak ada dalam program yang dibuat, maka hasil output nya akan muncul seperti berikut:\n",
    "else:\n",
    "    print(f\"Maaf bidang {jenis_bidang} yang kamu masukkan tidak terdaftar.\")\n",
    "    print(\"Hanya ada pilihan SEGITIGA DAN PERSEGI.\")\n",
    "    print(\"Terima kasih.\")"
   ]
  },
  {
   "cell_type": "markdown",
   "id": "94a46d8c",
   "metadata": {},
   "source": [
    "# 5.20 NUMPY\n",
    "Numpy merupakan salah satu Library dalam Python yang memiliki keunggulan dalam perhitungan menggunakan vektor dan matrik dalam berbagai dimensi. Hal pertama yang perlu dilakukan adalah memanggil Library Numpy sebagai berikut:"
   ]
  },
  {
   "cell_type": "code",
   "execution_count": 49,
   "id": "1703bfb0",
   "metadata": {},
   "outputs": [],
   "source": [
    "import numpy as np"
   ]
  },
  {
   "cell_type": "markdown",
   "id": "8c8dd636",
   "metadata": {},
   "source": [
    "Berikut latihan Numpy:"
   ]
  },
  {
   "cell_type": "markdown",
   "id": "0553c69c",
   "metadata": {},
   "source": [
    "# 5.20.1 Perintah Dasar pada Numpy\n",
    "Beberapa perintah dalam Numpy diantaranya memanggil Numpy, mengetahui dimensi dan ukuran variabel."
   ]
  },
  {
   "cell_type": "code",
   "execution_count": 50,
   "id": "089e8f85",
   "metadata": {},
   "outputs": [
    {
     "name": "stdout",
     "output_type": "stream",
     "text": [
      "[ 6  7  8  9 10]\n"
     ]
    }
   ],
   "source": [
    "#latihan 1\n",
    "\n",
    "#pertama-tama pikirkan dan buat Numpy yang diinginkan\n",
    "x = np.array([6,7,8,9,10])\n",
    "\n",
    "#cara memanggil anggota Numpy (x), sebagai berikut\n",
    "print(x)"
   ]
  },
  {
   "cell_type": "code",
   "execution_count": 51,
   "id": "275c0acd",
   "metadata": {},
   "outputs": [
    {
     "name": "stdout",
     "output_type": "stream",
     "text": [
      "[[11 12 13]\n",
      " [14 15 16]]\n"
     ]
    }
   ],
   "source": [
    "#latihan 2\n",
    "\n",
    "#pertama-tama pikirkan dan buat Numpy yang berbeda dari latihan 1\n",
    "y = np.array([[11,12,13], [14,15,16]])\n",
    "\n",
    "#cara menggil anggota Numpy (y) , sebagi berikut:\n",
    "print(y)"
   ]
  },
  {
   "cell_type": "code",
   "execution_count": 52,
   "id": "f0df2fa0",
   "metadata": {},
   "outputs": [
    {
     "name": "stdout",
     "output_type": "stream",
     "text": [
      "[[[17, 18, 19], [20, 21, 22]], [[24, 25, 26], [27, 28, 29]], [[30, 31, 32], [33, 34, 35]]]\n"
     ]
    }
   ],
   "source": [
    "#latihan 3\n",
    "\n",
    "#pertama-tama pikirkan dan buat Numpy berbeda dari latihan 1 dan 2\n",
    "z = ([[[17,18,19], [20,21,22]], \n",
    "      [[24,25,26], [27,28,29]],\n",
    "      [[30,31,32], [33,34,35]]])\n",
    "\n",
    "#cara memanggil anggota Numpy  (z), sebagai berikut:\n",
    "print(z)"
   ]
  },
  {
   "cell_type": "code",
   "execution_count": 8,
   "id": "deedf347",
   "metadata": {},
   "outputs": [
    {
     "data": {
      "text/plain": [
       "1"
      ]
     },
     "execution_count": 8,
     "metadata": {},
     "output_type": "execute_result"
    }
   ],
   "source": [
    "#latihan 4\n",
    "\n",
    "#cara untuk mengetahui dimensi dari Numpy pada latihan 1, sebagai berikut:\n",
    "x.ndim"
   ]
  },
  {
   "cell_type": "code",
   "execution_count": 9,
   "id": "097b91a4",
   "metadata": {},
   "outputs": [
    {
     "data": {
      "text/plain": [
       "2"
      ]
     },
     "execution_count": 9,
     "metadata": {},
     "output_type": "execute_result"
    }
   ],
   "source": [
    "#latihan 5\n",
    "\n",
    "#cara untuk mengetahui dimensi dari Numpy pada latihan 2, sebagai berikut:\n",
    "y.ndim"
   ]
  },
  {
   "cell_type": "code",
   "execution_count": 10,
   "id": "61f1fcf8",
   "metadata": {},
   "outputs": [
    {
     "ename": "AttributeError",
     "evalue": "'list' object has no attribute 'ndim'",
     "output_type": "error",
     "traceback": [
      "\u001b[1;31m---------------------------------------------------------------------------\u001b[0m",
      "\u001b[1;31mAttributeError\u001b[0m                            Traceback (most recent call last)",
      "\u001b[1;32m~\\AppData\\Local\\Temp\\ipykernel_8896\\946261477.py\u001b[0m in \u001b[0;36m<module>\u001b[1;34m\u001b[0m\n\u001b[1;32m----> 1\u001b[1;33m \u001b[0mz\u001b[0m\u001b[1;33m.\u001b[0m\u001b[0mndim\u001b[0m\u001b[1;33m\u001b[0m\u001b[1;33m\u001b[0m\u001b[0m\n\u001b[0m",
      "\u001b[1;31mAttributeError\u001b[0m: 'list' object has no attribute 'ndim'"
     ]
    }
   ],
   "source": [
    "#latihan 6\n",
    "\n",
    "#cara untuk mengetahui dimensi dari Numpy pada latihan 3, sebagai berikut:\n",
    "z.ndim\n",
    "#mohon maaf pak, ini saya tidak tahu kenapa bisa error\n",
    "#mungkin karena numpy yang dibuat terlalu besar, sehingga program tidak bisa dijalankan"
   ]
  },
  {
   "cell_type": "code",
   "execution_count": 12,
   "id": "1ff1af77",
   "metadata": {},
   "outputs": [
    {
     "data": {
      "text/plain": [
       "(5,)"
      ]
     },
     "execution_count": 12,
     "metadata": {},
     "output_type": "execute_result"
    }
   ],
   "source": [
    "#latihan 7\n",
    "\n",
    "#cara untuk mengetahui ukuran variabel dari Numpy pada latihan 1, sebagai berikut:\n",
    "x.shape\n",
    "\n",
    "#karena pada latihan 1 terdapat 5 anggota Numpy maka outputnya adalah (5,)"
   ]
  },
  {
   "cell_type": "code",
   "execution_count": 13,
   "id": "4d2ff961",
   "metadata": {},
   "outputs": [
    {
     "data": {
      "text/plain": [
       "(2, 3)"
      ]
     },
     "execution_count": 13,
     "metadata": {},
     "output_type": "execute_result"
    }
   ],
   "source": [
    "#latihan 8\n",
    "\n",
    "#cara untuk mengetahui ukuran variabel dari Numpy pada latihan 2, sebagai berikut:\n",
    "y.shape\n",
    "\n",
    "#pada latihan 2 terdapat 2 anggota Numpy, yang dimana tiap anggotanya memiliki 3 anggota lagi\n",
    "#sehingga outputnya adalah (2,3)"
   ]
  },
  {
   "cell_type": "code",
   "execution_count": 11,
   "id": "ce06aa58",
   "metadata": {},
   "outputs": [
    {
     "ename": "AttributeError",
     "evalue": "'list' object has no attribute 'shape'",
     "output_type": "error",
     "traceback": [
      "\u001b[1;31m---------------------------------------------------------------------------\u001b[0m",
      "\u001b[1;31mAttributeError\u001b[0m                            Traceback (most recent call last)",
      "\u001b[1;32m~\\AppData\\Local\\Temp\\ipykernel_8896\\2859697077.py\u001b[0m in \u001b[0;36m<module>\u001b[1;34m\u001b[0m\n\u001b[1;32m----> 1\u001b[1;33m \u001b[0mz\u001b[0m\u001b[1;33m.\u001b[0m\u001b[0mshape\u001b[0m\u001b[1;33m\u001b[0m\u001b[1;33m\u001b[0m\u001b[0m\n\u001b[0m",
      "\u001b[1;31mAttributeError\u001b[0m: 'list' object has no attribute 'shape'"
     ]
    }
   ],
   "source": [
    "#latihan 9\n",
    "\n",
    "#cara untuk mengetahui ukuran variabel dari Numpy pada latihan 3, sebagai berikut:\n",
    "z.shape\n",
    "#mohon maaf pak, ini saya tidak tahu kenapa bisa error\n",
    "#mungkin karena numpy yang dibuat terlalu besar, sehingga program tidak bisa dijalankan"
   ]
  },
  {
   "cell_type": "markdown",
   "id": "49aa75c5",
   "metadata": {},
   "source": [
    "# 5.20.2 Memanggil Anggota, Kolom, dan Baris dengan Numpy"
   ]
  },
  {
   "cell_type": "code",
   "execution_count": 26,
   "id": "cca132bd",
   "metadata": {},
   "outputs": [
    {
     "name": "stdout",
     "output_type": "stream",
     "text": [
      "[[ 7  8  9 10 11]\n",
      " [12 13 14 15 16]\n",
      " [17 18 19 20 21]]\n"
     ]
    }
   ],
   "source": [
    "#latihan 1\n",
    "\n",
    "#pertama-tama pikirkan dan buat Numpy yang diinginkan\n",
    "a = np.array([[7,8,9,10,11], [12,13,14,15,16], [17,18,19,20,21]])\n",
    "\n",
    "#andaikan seperti matrik\n",
    "#[7,8,9,10,11] baris ke 0, \n",
    "#dimana 7 = kolom ke 0, 8 = kolom ke 1, dan 9 = kolom ke 2, 10 = kolom ke 3, 11 = kolom ke 4\n",
    "#[12,13,14,15,16] baris ke 1\n",
    "#dimana 12 = kolom ke 0, 13 = kolom ke 1, dan 14 = kolom ke 2, 15 = kolom ke 3, 16 = kolom ke 4\n",
    "#[17,18,19,20,21] baris ke 2\n",
    "#dimana 17 = kolom ke 0, 18 = kolom ke 1, dan 19 = kolom ke 2, 20 = kolom ke 3, 21 = kolom ke 4\n",
    "\n",
    "#memanggil anggota Numpy (a)\n",
    "print(a)"
   ]
  },
  {
   "cell_type": "code",
   "execution_count": 27,
   "id": "d3a10480",
   "metadata": {},
   "outputs": [
    {
     "data": {
      "text/plain": [
       "9"
      ]
     },
     "execution_count": 27,
     "metadata": {},
     "output_type": "execute_result"
    }
   ],
   "source": [
    "#latihan 2\n",
    "\n",
    "#cara memanggil anggota pada baris ke 0 kolom ke 2\n",
    "a[0,2]"
   ]
  },
  {
   "cell_type": "code",
   "execution_count": 28,
   "id": "bf4ff8ba",
   "metadata": {},
   "outputs": [
    {
     "data": {
      "text/plain": [
       "array([12, 13, 14, 15, 16])"
      ]
     },
     "execution_count": 28,
     "metadata": {},
     "output_type": "execute_result"
    }
   ],
   "source": [
    "#latihan 3\n",
    "\n",
    "#cara memanggil semua anggota pada baris ke 1\n",
    "a[1,:]"
   ]
  },
  {
   "cell_type": "code",
   "execution_count": 29,
   "id": "856893b1",
   "metadata": {},
   "outputs": [
    {
     "data": {
      "text/plain": [
       "array([ 8, 13, 18])"
      ]
     },
     "execution_count": 29,
     "metadata": {},
     "output_type": "execute_result"
    }
   ],
   "source": [
    "#latihan 4\n",
    "\n",
    "#cara memanggil semua anggota pada kolom ke 1\n",
    "a[:,1]"
   ]
  },
  {
   "cell_type": "code",
   "execution_count": 30,
   "id": "cac6dd82",
   "metadata": {},
   "outputs": [
    {
     "data": {
      "text/plain": [
       "array([7, 8])"
      ]
     },
     "execution_count": 30,
     "metadata": {},
     "output_type": "execute_result"
    }
   ],
   "source": [
    "#latihan 5\n",
    "\n",
    "#cara memanggil anggota pada baris ke 0, dari kolom ke 0 dengan batas sebelum kolom ke 2\n",
    "a[0,0:2]"
   ]
  },
  {
   "cell_type": "code",
   "execution_count": 31,
   "id": "620b4552",
   "metadata": {},
   "outputs": [
    {
     "data": {
      "text/plain": [
       "array([ 8, 10])"
      ]
     },
     "execution_count": 31,
     "metadata": {},
     "output_type": "execute_result"
    }
   ],
   "source": [
    "#latihan 6\n",
    "\n",
    "#cara memanggil anggota pada baris ke 0, dari kolom ke 1 dengan batas sebelum kolom ke 4 dengan loncatan 2 kolom\n",
    "a[0,1:4:2]"
   ]
  },
  {
   "cell_type": "code",
   "execution_count": 32,
   "id": "15fa0d84",
   "metadata": {},
   "outputs": [
    {
     "name": "stdout",
     "output_type": "stream",
     "text": [
      "[[ 7  8  9 10 11]\n",
      " [12 13 14 15 16]\n",
      " [17 18 19 20 50]]\n"
     ]
    }
   ],
   "source": [
    "#latihan 7\n",
    "\n",
    "#mengubah anggota pada baris ke 2 kolom ke 4 menjadi \"50\"\n",
    "a[2,4] = 50\n",
    "print(a)"
   ]
  },
  {
   "cell_type": "markdown",
   "id": "974468a2",
   "metadata": {},
   "source": [
    "# 5.20.3 Matrix pada Numpy"
   ]
  },
  {
   "cell_type": "code",
   "execution_count": 34,
   "id": "2d4b62e3",
   "metadata": {},
   "outputs": [
    {
     "data": {
      "text/plain": [
       "array([[1., 1., 1.],\n",
       "       [1., 1., 1.]])"
      ]
     },
     "execution_count": 34,
     "metadata": {},
     "output_type": "execute_result"
    }
   ],
   "source": [
    "#latihan 1\n",
    "\n",
    "#membuat matrik 1 dengan jumlah baris ada 2 dan jumlah kolom ada 3\n",
    "np.ones((2,3))"
   ]
  },
  {
   "cell_type": "code",
   "execution_count": 35,
   "id": "62107397",
   "metadata": {},
   "outputs": [
    {
     "data": {
      "text/plain": [
       "array([[0., 0., 0., 0.],\n",
       "       [0., 0., 0., 0.],\n",
       "       [0., 0., 0., 0.]])"
      ]
     },
     "execution_count": 35,
     "metadata": {},
     "output_type": "execute_result"
    }
   ],
   "source": [
    "#latihan 2\n",
    "\n",
    "#membuat matrik 0 dengan jumlah baris ada 3 dan jumlah kolom ada 4\n",
    "np.zeros((3,4))"
   ]
  },
  {
   "cell_type": "code",
   "execution_count": 38,
   "id": "7e6dd100",
   "metadata": {},
   "outputs": [
    {
     "data": {
      "text/plain": [
       "array([[1., 0., 0.],\n",
       "       [0., 1., 0.],\n",
       "       [0., 0., 1.]])"
      ]
     },
     "execution_count": 38,
     "metadata": {},
     "output_type": "execute_result"
    }
   ],
   "source": [
    "#latihan 3\n",
    "\n",
    "#membuat matrik identitas dengan jumlah baris ada 3\n",
    "np.identity(3)"
   ]
  },
  {
   "cell_type": "code",
   "execution_count": 39,
   "id": "a4c7e47e",
   "metadata": {},
   "outputs": [
    {
     "data": {
      "text/plain": [
       "array([[[1., 1., 1., 1., 1.],\n",
       "        [1., 1., 1., 1., 1.],\n",
       "        [1., 1., 1., 1., 1.],\n",
       "        [1., 1., 1., 1., 1.]],\n",
       "\n",
       "       [[1., 1., 1., 1., 1.],\n",
       "        [1., 1., 1., 1., 1.],\n",
       "        [1., 1., 1., 1., 1.],\n",
       "        [1., 1., 1., 1., 1.]],\n",
       "\n",
       "       [[1., 1., 1., 1., 1.],\n",
       "        [1., 1., 1., 1., 1.],\n",
       "        [1., 1., 1., 1., 1.],\n",
       "        [1., 1., 1., 1., 1.]]])"
      ]
     },
     "execution_count": 39,
     "metadata": {},
     "output_type": "execute_result"
    }
   ],
   "source": [
    "#latihan 4\n",
    "\n",
    "#membuat 3 matrik 1, dengan jumlah baris ada 4 dan jumlah kolom ada 5\n",
    "np.ones((3,4,5))"
   ]
  },
  {
   "cell_type": "code",
   "execution_count": 41,
   "id": "0df60900",
   "metadata": {},
   "outputs": [
    {
     "data": {
      "text/plain": [
       "array([[5, 5, 5, 5],\n",
       "       [5, 5, 5, 5],\n",
       "       [5, 5, 5, 5]])"
      ]
     },
     "execution_count": 41,
     "metadata": {},
     "output_type": "execute_result"
    }
   ],
   "source": [
    "#latihan 5\n",
    "\n",
    "#membuat matrik 5, dengan jumlah baris ada 3 dan jumlah kolom ada 4\n",
    "np.full((3,4),5)"
   ]
  },
  {
   "cell_type": "code",
   "execution_count": 44,
   "id": "d34f7c09",
   "metadata": {},
   "outputs": [
    {
     "data": {
      "text/plain": [
       "array([[0.31120631, 0.42829275, 0.47382348, 0.66922182, 0.3307722 ],\n",
       "       [0.01746261, 0.59155527, 0.52422754, 0.79588102, 0.09634125],\n",
       "       [0.66908204, 0.70163857, 0.43314974, 0.40991528, 0.08378576]])"
      ]
     },
     "execution_count": 44,
     "metadata": {},
     "output_type": "execute_result"
    }
   ],
   "source": [
    "#latihan 6\n",
    "\n",
    "#membuat matrik random, dengan jumlah baris ada 3 dan jumlah kolom ada 5\n",
    "np.random.rand(3,5)"
   ]
  },
  {
   "cell_type": "code",
   "execution_count": 47,
   "id": "f5a4e987",
   "metadata": {},
   "outputs": [
    {
     "data": {
      "text/plain": [
       "array([[15, 11, 13, 19, 18],\n",
       "       [14, 15, 16, 16, 15],\n",
       "       [17, 12, 11, 11, 14],\n",
       "       [17, 18, 11, 16, 11]])"
      ]
     },
     "execution_count": 47,
     "metadata": {},
     "output_type": "execute_result"
    }
   ],
   "source": [
    "#latihan 7\n",
    "\n",
    "#membuat matrik random bilangan antara 11 sampai 20 (bukan desimal), dengan jumlah baris ada 4 dan kolom ada 5\n",
    "np.random.randint(11,20,size=(4,5))"
   ]
  },
  {
   "cell_type": "code",
   "execution_count": 53,
   "id": "2d4d45fd",
   "metadata": {},
   "outputs": [
    {
     "name": "stdout",
     "output_type": "stream",
     "text": [
      "[[0. 0. 0. 0. 0. 0. 0. 0. 0. 0.]\n",
      " [0. 0. 0. 0. 0. 0. 0. 0. 0. 0.]\n",
      " [0. 0. 0. 0. 0. 0. 0. 0. 0. 0.]\n",
      " [0. 0. 0. 0. 0. 0. 0. 0. 0. 0.]\n",
      " [0. 0. 0. 0. 0. 0. 0. 0. 0. 0.]\n",
      " [0. 0. 0. 0. 0. 0. 0. 0. 0. 0.]\n",
      " [0. 0. 0. 0. 0. 0. 0. 0. 0. 0.]\n",
      " [0. 0. 0. 0. 0. 0. 0. 0. 0. 0.]\n",
      " [0. 0. 0. 0. 0. 0. 0. 0. 0. 0.]\n",
      " [0. 0. 0. 0. 0. 0. 0. 0. 0. 0.]]\n"
     ]
    }
   ],
   "source": [
    "#latihan 8\n",
    "\n",
    "#membuat dan mencetak matrik 0 berordo 10x10\n",
    "a = np.zeros((10,10))\n",
    "print(a)"
   ]
  },
  {
   "cell_type": "code",
   "execution_count": 54,
   "id": "63cd87d6",
   "metadata": {},
   "outputs": [
    {
     "name": "stdout",
     "output_type": "stream",
     "text": [
      "[[1. 0. 0. 0. 0. 0. 0. 0. 0. 0.]\n",
      " [0. 1. 0. 0. 0. 0. 0. 0. 0. 0.]\n",
      " [0. 0. 1. 0. 0. 0. 0. 0. 0. 0.]\n",
      " [0. 0. 0. 1. 0. 0. 0. 0. 0. 0.]\n",
      " [0. 0. 0. 0. 1. 0. 0. 0. 0. 0.]\n",
      " [0. 0. 0. 0. 0. 1. 0. 0. 0. 0.]\n",
      " [0. 0. 0. 0. 0. 0. 1. 0. 0. 0.]\n",
      " [0. 0. 0. 0. 0. 0. 0. 1. 0. 0.]\n",
      " [0. 0. 0. 0. 0. 0. 0. 0. 1. 0.]\n",
      " [0. 0. 0. 0. 0. 0. 0. 0. 0. 1.]]\n"
     ]
    }
   ],
   "source": [
    "#latihan 9\n",
    "\n",
    "#membuat dan mencetak matrik identitas berordo 10x10\n",
    "b = np.identity(10)\n",
    "print(b)"
   ]
  },
  {
   "cell_type": "code",
   "execution_count": 55,
   "id": "8808e0d7",
   "metadata": {},
   "outputs": [
    {
     "name": "stdout",
     "output_type": "stream",
     "text": [
      "[[9. 0. 0. 0. 0. 0. 0. 0. 0. 0.]\n",
      " [0. 9. 0. 0. 0. 0. 0. 0. 0. 0.]\n",
      " [0. 0. 9. 0. 0. 0. 0. 0. 0. 0.]\n",
      " [0. 0. 0. 9. 0. 0. 0. 0. 0. 0.]\n",
      " [0. 0. 0. 0. 9. 0. 0. 0. 0. 0.]\n",
      " [0. 0. 0. 0. 0. 9. 0. 0. 0. 0.]\n",
      " [0. 0. 0. 0. 0. 0. 9. 0. 0. 0.]\n",
      " [0. 0. 0. 0. 0. 0. 0. 9. 0. 0.]\n",
      " [0. 0. 0. 0. 0. 0. 0. 0. 9. 0.]\n",
      " [0. 0. 0. 0. 0. 0. 0. 0. 0. 9.]]\n"
     ]
    }
   ],
   "source": [
    "#latihan 10\n",
    "\n",
    "#mengalikan dengan 9 dan mencetak matrik b pada latihan 9 \n",
    "c = 9*b\n",
    "print(c)"
   ]
  },
  {
   "cell_type": "code",
   "execution_count": 57,
   "id": "fe74ef2d",
   "metadata": {},
   "outputs": [
    {
     "name": "stdout",
     "output_type": "stream",
     "text": [
      "[[9. 1. 1. 1. 1. 1. 1. 1.]\n",
      " [1. 9. 1. 1. 1. 1. 1. 1.]\n",
      " [1. 1. 9. 1. 1. 1. 1. 1.]\n",
      " [1. 1. 1. 9. 1. 1. 1. 1.]\n",
      " [1. 1. 1. 1. 9. 1. 1. 1.]\n",
      " [1. 1. 1. 1. 1. 9. 1. 1.]\n",
      " [1. 1. 1. 1. 1. 1. 9. 1.]\n",
      " [1. 1. 1. 1. 1. 1. 1. 9.]]\n"
     ]
    }
   ],
   "source": [
    "#latihan 11\n",
    "\n",
    "#membuat matrik 1 berordo 8x8\n",
    "d = np.ones((8,8))\n",
    "\n",
    "#membuat matrik identitas berordo 8x8\n",
    "e = np.identity(8)*8\n",
    "\n",
    "#menjumlahkan dan mencetak matrik (d) dan matrik (e)\n",
    "f = d+e\n",
    "print(f)"
   ]
  },
  {
   "cell_type": "code",
   "execution_count": 58,
   "id": "72002ce4",
   "metadata": {},
   "outputs": [
    {
     "name": "stdout",
     "output_type": "stream",
     "text": [
      "[[9. 0. 0. 0. 0. 0. 0. 0. 0. 0.]\n",
      " [0. 9. 1. 1. 1. 1. 1. 1. 1. 0.]\n",
      " [0. 1. 9. 1. 1. 1. 1. 1. 1. 0.]\n",
      " [0. 1. 1. 9. 1. 1. 1. 1. 1. 0.]\n",
      " [0. 1. 1. 1. 9. 1. 1. 1. 1. 0.]\n",
      " [0. 1. 1. 1. 1. 9. 1. 1. 1. 0.]\n",
      " [0. 1. 1. 1. 1. 1. 9. 1. 1. 0.]\n",
      " [0. 1. 1. 1. 1. 1. 1. 9. 1. 0.]\n",
      " [0. 1. 1. 1. 1. 1. 1. 1. 9. 0.]\n",
      " [0. 0. 0. 0. 0. 0. 0. 0. 0. 9.]]\n"
     ]
    }
   ],
   "source": [
    "#latihan 12\n",
    "\n",
    "#mengubah dan mencetak matrik (c) dengan matrik (f), hanya pada urutan baris ke 1 dengan batas sebelum -1, dan kolom ke 1 dengan batas sebelum -1\n",
    "c[1:-1,1:-1] = f\n",
    "print(c)"
   ]
  },
  {
   "cell_type": "markdown",
   "id": "da6cf939",
   "metadata": {},
   "source": [
    "# 5.20.4 Copy pada Numpy\n",
    "Kita sering kali menduplikat suatu variabel dengan maksud untuk mempercepat pekerjaan kita. Akan tetapi, sering tanpa disadari ikatan persamaan dalam Numpy sedemikian eratnya sehingga saat anggota variabel baru dirubah, dampaknya juga akan merubah variabel asal. Untuk menghindari perubahan variabel awal yang tidak dikehendaki maka diperlukan perintah copy seperti pada latihan berikut:"
   ]
  },
  {
   "cell_type": "code",
   "execution_count": 59,
   "id": "68a5978b",
   "metadata": {},
   "outputs": [
    {
     "name": "stdout",
     "output_type": "stream",
     "text": [
      "[ 6  7  8  9 10]\n"
     ]
    }
   ],
   "source": [
    "#latihan 1\n",
    "\n",
    "#pertama-tama pikirkan dan buat numpy yang diinginkan\n",
    "x = np.array([6,7,8,9,10])\n",
    "#6 = urutan ke 0 atau -5\n",
    "#7 = urutan ke 1 atau -4\n",
    "#8 = urutan ke 2 atau -3\n",
    "#9 = urutan ke 3 atau -2\n",
    "#10 = urutan ke 4 atau -1\n",
    "\n",
    "#mencetak numpy yang diinginkan\n",
    "print(x)"
   ]
  },
  {
   "cell_type": "code",
   "execution_count": 60,
   "id": "c70e66c0",
   "metadata": {},
   "outputs": [
    {
     "name": "stdout",
     "output_type": "stream",
     "text": [
      "[ 6  7  8  9 10]\n"
     ]
    }
   ],
   "source": [
    "#latihan 2\n",
    "\n",
    "#cara meng'copy numpy dengan cara biasa\n",
    "y = x\n",
    "print(y)"
   ]
  },
  {
   "cell_type": "code",
   "execution_count": 61,
   "id": "9620b21b",
   "metadata": {},
   "outputs": [
    {
     "name": "stdout",
     "output_type": "stream",
     "text": [
      "[ 6  7 15  9 10]\n"
     ]
    }
   ],
   "source": [
    "#latihan 3\n",
    "\n",
    "#untuk penjelasan urutan sama dengan latihan 1\n",
    "#mengubah dan mencetak anggota numpy baru urutan ke 2 dengan \"15\"\n",
    "y[2] = 15\n",
    "print(y)"
   ]
  },
  {
   "cell_type": "code",
   "execution_count": 62,
   "id": "1b226af0",
   "metadata": {},
   "outputs": [
    {
     "name": "stdout",
     "output_type": "stream",
     "text": [
      "[ 6  7 15  9 10]\n"
     ]
    }
   ],
   "source": [
    "#latihan 4\n",
    "\n",
    "#mencetak ulang numpy awal, tetapi anggotanya akan berubah sesuai dengan numpy baru karena menggunakan aturan copy biasa\n",
    "print(x)"
   ]
  },
  {
   "cell_type": "code",
   "execution_count": 63,
   "id": "613bc5b5",
   "metadata": {},
   "outputs": [
    {
     "name": "stdout",
     "output_type": "stream",
     "text": [
      "[ 6  7  8  9 10]\n"
     ]
    }
   ],
   "source": [
    "#latihan 5\n",
    "\n",
    "#pertama-tama pikirkan dan buat numpy yang diinginkan\n",
    "a = np.array([6,7,8,9,10])\n",
    "#6 = urutan ke 0 atau -5\n",
    "#7 = urutan ke 1 atau -4\n",
    "#8 = urutan ke 2 atau -3\n",
    "#9 = urutan ke 3 atau -2\n",
    "#10 = urutan ke 4 atau -1\n",
    "\n",
    "#mencetak numpy yang diinginkan\n",
    "print(a)"
   ]
  },
  {
   "cell_type": "code",
   "execution_count": 64,
   "id": "ba273d02",
   "metadata": {},
   "outputs": [
    {
     "name": "stdout",
     "output_type": "stream",
     "text": [
      "[ 6  7  8  9 10]\n"
     ]
    }
   ],
   "source": [
    "#latihan 6\n",
    "\n",
    "#dengan menggunakan aturan copy pada numpy\n",
    "#mencetak numpy baru\n",
    "b = a.copy()\n",
    "print(b)"
   ]
  },
  {
   "cell_type": "code",
   "execution_count": 65,
   "id": "e00e743c",
   "metadata": {},
   "outputs": [
    {
     "name": "stdout",
     "output_type": "stream",
     "text": [
      "[ 6  7 15  9 10]\n"
     ]
    }
   ],
   "source": [
    "#latihan 7\n",
    "\n",
    "#untuk penjelasan urutan sama dengan latihan 5\n",
    "#mengubah dan mencetak anggota numpy baru urutan ke 2 dengan \"15\"\n",
    "b[2] = 15\n",
    "print(b)"
   ]
  },
  {
   "cell_type": "code",
   "execution_count": 66,
   "id": "9a8a5bdb",
   "metadata": {},
   "outputs": [
    {
     "name": "stdout",
     "output_type": "stream",
     "text": [
      "[ 6  7  8  9 10]\n"
     ]
    }
   ],
   "source": [
    "#latihan 8\n",
    "\n",
    "#mencetak ulang numpy awal, anggotanya akan sama dengan cetakan awal karena sudah menggunakan aturan copy pada numpy\n",
    "print(a)"
   ]
  },
  {
   "cell_type": "markdown",
   "id": "8de201d4",
   "metadata": {},
   "source": [
    "# 5.20.5 Operasi Matematika pada Numpy"
   ]
  },
  {
   "cell_type": "code",
   "execution_count": 69,
   "id": "60ffb33d",
   "metadata": {},
   "outputs": [
    {
     "data": {
      "text/plain": [
       "array([ 8,  9, 17, 11, 12])"
      ]
     },
     "execution_count": 69,
     "metadata": {},
     "output_type": "execute_result"
    }
   ],
   "source": [
    "#latihan 1\n",
    "\n",
    "#numpy yang digunakan masih sama dengan numpy (x) pada latihan copy pada numpy\n",
    "#operasi penjumlahan\n",
    "#menjumlahkan dengan 2 dan mencetak ulang numpy(x)\n",
    "x+2"
   ]
  },
  {
   "cell_type": "code",
   "execution_count": 70,
   "id": "4cb9841e",
   "metadata": {},
   "outputs": [
    {
     "data": {
      "text/plain": [
       "array([ 3,  4, 12,  6,  7])"
      ]
     },
     "execution_count": 70,
     "metadata": {},
     "output_type": "execute_result"
    }
   ],
   "source": [
    "#latihan 2\n",
    "\n",
    "#operasi pengurangan\n",
    "#mengurangi dengan 3 dan mencetak ulang numpy (x)\n",
    "x-3"
   ]
  },
  {
   "cell_type": "code",
   "execution_count": 71,
   "id": "67197415",
   "metadata": {},
   "outputs": [
    {
     "data": {
      "text/plain": [
       "array([12, 14, 30, 18, 20])"
      ]
     },
     "execution_count": 71,
     "metadata": {},
     "output_type": "execute_result"
    }
   ],
   "source": [
    "#latihan 3\n",
    "\n",
    "#operasi perkalian\n",
    "#mengalikan dengan 2 dan mencetak ulang numpy (x)\n",
    "x*2"
   ]
  },
  {
   "cell_type": "code",
   "execution_count": 72,
   "id": "3513df85",
   "metadata": {},
   "outputs": [
    {
     "data": {
      "text/plain": [
       "array([3. , 3.5, 7.5, 4.5, 5. ])"
      ]
     },
     "execution_count": 72,
     "metadata": {},
     "output_type": "execute_result"
    }
   ],
   "source": [
    "#latihan 4\n",
    "\n",
    "#operasi pembagian\n",
    "#membagi dengan 2 dan mencetak ulang numpy (x)\n",
    "x/2"
   ]
  },
  {
   "cell_type": "code",
   "execution_count": 73,
   "id": "f6d17933",
   "metadata": {},
   "outputs": [
    {
     "data": {
      "text/plain": [
       "array([ 216,  343, 3375,  729, 1000], dtype=int32)"
      ]
     },
     "execution_count": 73,
     "metadata": {},
     "output_type": "execute_result"
    }
   ],
   "source": [
    "#latihan 5\n",
    "\n",
    "#operasi pemangkatan\n",
    "#memangkatkan dengan 3 dan mencetak ulang numpy (x)\n",
    "x**3"
   ]
  },
  {
   "cell_type": "code",
   "execution_count": 75,
   "id": "514c9c80",
   "metadata": {},
   "outputs": [
    {
     "data": {
      "text/plain": [
       "array([-0.2794155 ,  0.6569866 ,  0.98935825,  0.41211849, -0.54402111])"
      ]
     },
     "execution_count": 75,
     "metadata": {},
     "output_type": "execute_result"
    }
   ],
   "source": [
    "#latihan 6\n",
    "\n",
    "#numpy yang digunakan masih sama dengan numpy (a) pada latihan copy pada numpy\n",
    "#operasi dalam fungsi trigonometri\n",
    "#menentukan nilai sin dari numpy (a)\n",
    "np.sin(a)"
   ]
  },
  {
   "cell_type": "code",
   "execution_count": 77,
   "id": "c1e54b48",
   "metadata": {},
   "outputs": [
    {
     "data": {
      "text/plain": [
       "array([ 0.96017029,  0.75390225, -0.14550003, -0.91113026, -0.83907153])"
      ]
     },
     "execution_count": 77,
     "metadata": {},
     "output_type": "execute_result"
    }
   ],
   "source": [
    "#latihan 7\n",
    "\n",
    "#operasi dalam fungsi trigonometri\n",
    "#menentukan nilai cos dari numpy (a)\n",
    "np.cos(a)"
   ]
  },
  {
   "cell_type": "code",
   "execution_count": 78,
   "id": "1450d01a",
   "metadata": {},
   "outputs": [
    {
     "data": {
      "text/plain": [
       "array([-0.29100619,  0.87144798, -6.79971146, -0.45231566,  0.64836083])"
      ]
     },
     "execution_count": 78,
     "metadata": {},
     "output_type": "execute_result"
    }
   ],
   "source": [
    "#latihan 8\n",
    "\n",
    "#operasi dalam fungsi trigonometri\n",
    "#menentukan nilai tan dari numpy (a)\n",
    "np.tan(a)"
   ]
  },
  {
   "cell_type": "code",
   "execution_count": 79,
   "id": "dfb182e5",
   "metadata": {},
   "outputs": [
    {
     "data": {
      "text/plain": [
       "array([  201.71315737,   548.31612327,  1490.47882579,  4051.54190208,\n",
       "       11013.2328747 ])"
      ]
     },
     "execution_count": 79,
     "metadata": {},
     "output_type": "execute_result"
    }
   ],
   "source": [
    "#latihan 9\n",
    "\n",
    "#operasi dalam fungsi hiperbolik\n",
    "#menentukan nilai sinh dari numpy (a)\n",
    "np.sinh(a)"
   ]
  },
  {
   "cell_type": "code",
   "execution_count": 80,
   "id": "ed8f11a3",
   "metadata": {},
   "outputs": [
    {
     "data": {
      "text/plain": [
       "array([  201.71563612,   548.31703516,  1490.47916125,  4051.54202549,\n",
       "       11013.2329201 ])"
      ]
     },
     "execution_count": 80,
     "metadata": {},
     "output_type": "execute_result"
    }
   ],
   "source": [
    "#latihan 10\n",
    "\n",
    "#operasi dalam fungsi hiperbolik\n",
    "#menentukan nilai cosh dari numpy (a)\n",
    "np.cosh(a)"
   ]
  },
  {
   "cell_type": "code",
   "execution_count": 82,
   "id": "958909b0",
   "metadata": {},
   "outputs": [
    {
     "data": {
      "text/plain": [
       "array([0.99998771, 0.99999834, 0.99999977, 0.99999997, 1.        ])"
      ]
     },
     "execution_count": 82,
     "metadata": {},
     "output_type": "execute_result"
    }
   ],
   "source": [
    "#latihan 11\n",
    "\n",
    "#operasi dalam fungsi hiperbolik\n",
    "#menentukan nilai tanh dari numpy (a)\n",
    "np.tanh(a)"
   ]
  },
  {
   "cell_type": "code",
   "execution_count": 83,
   "id": "a1055119",
   "metadata": {},
   "outputs": [
    {
     "data": {
      "text/plain": [
       "array([2.44948974, 2.64575131, 2.82842712, 3.        , 3.16227766])"
      ]
     },
     "execution_count": 83,
     "metadata": {},
     "output_type": "execute_result"
    }
   ],
   "source": [
    "#latihan 12\n",
    "\n",
    "#operasi akar\n",
    "#menentukan akar kuadrat dari numpy (a)\n",
    "np.sqrt(a)"
   ]
  },
  {
   "cell_type": "markdown",
   "id": "88ef4f2e",
   "metadata": {},
   "source": [
    "# 5.20.6 Perkalian Matrik pada Numpy\n",
    "Operasi matematika pada suatu matrik dengan Numpy akan mengoperaikan elemen yang baris dan kolomnya sama. Tentunya hal ini akan memberikan hasil berbeda jika yang kita kehendaki adalah perkalian dua matrik. Perkalian matrik pada Numpy dapat menggunakan perintah matmul. Perlu dijadikan perhatian tentang ukuran matrik yang akan dikalikan harus sesuai dengan persyaratan. Misalnya matrik ukuran (2x3) dapat dikalikan dengan matrik ukuran (3x4)."
   ]
  },
  {
   "cell_type": "code",
   "execution_count": 84,
   "id": "492e88a6",
   "metadata": {},
   "outputs": [
    {
     "name": "stdout",
     "output_type": "stream",
     "text": [
      "[[1 2 3 4]\n",
      " [5 6 7 8]]\n"
     ]
    }
   ],
   "source": [
    "#latihan 1\n",
    "\n",
    "#membuat dan mencetak matrik berordo 2x4\n",
    "a = np.array([[1,2,3,4], [5,6,7,8]])\n",
    "print(a)"
   ]
  },
  {
   "cell_type": "code",
   "execution_count": 85,
   "id": "98c9ec50",
   "metadata": {},
   "outputs": [
    {
     "name": "stdout",
     "output_type": "stream",
     "text": [
      "[[ 9 10 11 12]\n",
      " [13 14 15 16]]\n"
     ]
    }
   ],
   "source": [
    "#latihan 2\n",
    "\n",
    "#membuat dan mencetak matrik berodo 2x4 yang berbeda dengan latihan 1\n",
    "b = np.array([[9,10,11,12], [13,14,15,16]])\n",
    "print(b)"
   ]
  },
  {
   "cell_type": "code",
   "execution_count": 86,
   "id": "e5bcf938",
   "metadata": {},
   "outputs": [
    {
     "name": "stdout",
     "output_type": "stream",
     "text": [
      "[[  9  20  33  48]\n",
      " [ 65  84 105 128]]\n"
     ]
    }
   ],
   "source": [
    "#latihan 3\n",
    "\n",
    "##mengalikan matrik (a) dan matrik (b)\n",
    "c = a*b\n",
    "print(c)\n",
    "#dalam latihan ini, output akan muncul karena kedua matrik memiliki ordo yang sama"
   ]
  },
  {
   "cell_type": "code",
   "execution_count": 90,
   "id": "a6d33c21",
   "metadata": {},
   "outputs": [
    {
     "ename": "ValueError",
     "evalue": "matmul: Input operand 1 has a mismatch in its core dimension 0, with gufunc signature (n?,k),(k,m?)->(n?,m?) (size 2 is different from 4)",
     "output_type": "error",
     "traceback": [
      "\u001b[1;31m---------------------------------------------------------------------------\u001b[0m",
      "\u001b[1;31mValueError\u001b[0m                                Traceback (most recent call last)",
      "\u001b[1;32m~\\AppData\\Local\\Temp\\ipykernel_7860\\1133244235.py\u001b[0m in \u001b[0;36m<module>\u001b[1;34m\u001b[0m\n\u001b[0;32m      1\u001b[0m \u001b[1;31m#latihan 4\u001b[0m\u001b[1;33m\u001b[0m\u001b[1;33m\u001b[0m\u001b[0m\n\u001b[1;32m----> 2\u001b[1;33m \u001b[0md\u001b[0m \u001b[1;33m=\u001b[0m \u001b[0mnp\u001b[0m\u001b[1;33m.\u001b[0m\u001b[0mmatmul\u001b[0m\u001b[1;33m(\u001b[0m\u001b[0ma\u001b[0m\u001b[1;33m,\u001b[0m\u001b[0mb\u001b[0m\u001b[1;33m)\u001b[0m\u001b[1;33m\u001b[0m\u001b[1;33m\u001b[0m\u001b[0m\n\u001b[0m\u001b[0;32m      3\u001b[0m \u001b[0mprint\u001b[0m\u001b[1;33m(\u001b[0m\u001b[0md\u001b[0m\u001b[1;33m)\u001b[0m\u001b[1;33m\u001b[0m\u001b[1;33m\u001b[0m\u001b[0m\n",
      "\u001b[1;31mValueError\u001b[0m: matmul: Input operand 1 has a mismatch in its core dimension 0, with gufunc signature (n?,k),(k,m?)->(n?,m?) (size 2 is different from 4)"
     ]
    }
   ],
   "source": [
    "#latihan 4\n",
    "\n",
    "#mengalikan matrik (a) dan matrik (b) dengan perintah matmul\n",
    "d = np.matmul(a,b)\n",
    "print(d)\n",
    "#dalam latihan ini, output akan error, karena ordo kedua matrik tersebut tidak memenuhi syarat\n",
    "#seharusnya jika matrik (a) berordo 2x4, maka matrik (b) harus berordo  4x2"
   ]
  },
  {
   "cell_type": "code",
   "execution_count": 91,
   "id": "4444a4c3",
   "metadata": {},
   "outputs": [
    {
     "name": "stdout",
     "output_type": "stream",
     "text": [
      "[[ 9 10]\n",
      " [11 12]\n",
      " [13 14]\n",
      " [15 16]]\n"
     ]
    }
   ],
   "source": [
    "#latihan 5\n",
    "\n",
    "#membuat dan mencetak matrik berordo 2x4\n",
    "e = np.array([[9,10], [11,12], [13,14], [15,16]])\n",
    "print(e)"
   ]
  },
  {
   "cell_type": "code",
   "execution_count": 92,
   "id": "d74f20c9",
   "metadata": {},
   "outputs": [
    {
     "name": "stdout",
     "output_type": "stream",
     "text": [
      "[[130 140]\n",
      " [322 348]]\n"
     ]
    }
   ],
   "source": [
    "#latihan 6\n",
    "\n",
    "#mengalikan matrik (a) dan matrik (e) dengan perintah matmul\n",
    "f = np.matmul(a,e)\n",
    "print(f)\n",
    "#dalam latihan ini, outputnya akan muncul, karena ordo kedua matrik memenuhi syarat\n",
    "#yaitu matrik (a) berordo 2x4, dan matrik (b) berordo (4x2)"
   ]
  },
  {
   "cell_type": "code",
   "execution_count": 93,
   "id": "e37253f1",
   "metadata": {},
   "outputs": [
    {
     "ename": "ValueError",
     "evalue": "operands could not be broadcast together with shapes (2,4) (4,2) ",
     "output_type": "error",
     "traceback": [
      "\u001b[1;31m---------------------------------------------------------------------------\u001b[0m",
      "\u001b[1;31mValueError\u001b[0m                                Traceback (most recent call last)",
      "\u001b[1;32m~\\AppData\\Local\\Temp\\ipykernel_7860\\2513138200.py\u001b[0m in \u001b[0;36m<module>\u001b[1;34m\u001b[0m\n\u001b[1;32m----> 1\u001b[1;33m \u001b[0mg\u001b[0m \u001b[1;33m=\u001b[0m \u001b[0ma\u001b[0m\u001b[1;33m*\u001b[0m\u001b[0me\u001b[0m\u001b[1;33m\u001b[0m\u001b[1;33m\u001b[0m\u001b[0m\n\u001b[0m",
      "\u001b[1;31mValueError\u001b[0m: operands could not be broadcast together with shapes (2,4) (4,2) "
     ]
    }
   ],
   "source": [
    "#latihan 7\n",
    "\n",
    "#mengalikan matrik (a) dan matrik (e) tanpa menggunakan perintah matmul\n",
    "g = a*e\n",
    "#dalam latihan ini, output akan error, karena kedua matrik tersebut memiliki ordo yang berbeda\n",
    "#yaitu matrik (a) berordo 2x4, dan matrik (b) berordo (4x2)"
   ]
  },
  {
   "cell_type": "markdown",
   "id": "448d7dd0",
   "metadata": {},
   "source": [
    "# 5.20.7 min, max dan sum pada Numpy\n",
    "min = minimum\n",
    "max = maksimum\n",
    "sum = pemjumlahan"
   ]
  },
  {
   "cell_type": "code",
   "execution_count": 94,
   "id": "7bea8883",
   "metadata": {},
   "outputs": [
    {
     "name": "stdout",
     "output_type": "stream",
     "text": [
      "[[ 1  2  3  4]\n",
      " [ 5  6  7  8]\n",
      " [ 9 10 11 12]]\n"
     ]
    }
   ],
   "source": [
    "#latihan 1\n",
    "\n",
    "#membuat dan mencetak matrik yang diinginkan\n",
    "a = np.array([[1,2,3,4],\n",
    "              [5,6,7,8],\n",
    "              [9,10,11,12]])\n",
    "print(a)"
   ]
  },
  {
   "cell_type": "code",
   "execution_count": 96,
   "id": "2cdeb5fd",
   "metadata": {},
   "outputs": [
    {
     "name": "stdout",
     "output_type": "stream",
     "text": [
      "1\n"
     ]
    }
   ],
   "source": [
    "#latihan 2\n",
    "\n",
    "#menentukan dan mencetak nilai minimum dari anggota matrik (a)\n",
    "b = np.min(a)\n",
    "print(b)"
   ]
  },
  {
   "cell_type": "code",
   "execution_count": 103,
   "id": "bfa96f03",
   "metadata": {},
   "outputs": [
    {
     "name": "stdout",
     "output_type": "stream",
     "text": [
      "[1 2 3 4]\n"
     ]
    }
   ],
   "source": [
    "#latihan 3\n",
    "\n",
    "#menentukan dan mencetak nilai minimum tiap kolom dari matrik (a)\n",
    "c = np.min(a,axis=0)\n",
    "print(c)"
   ]
  },
  {
   "cell_type": "code",
   "execution_count": 105,
   "id": "721f9ab7",
   "metadata": {},
   "outputs": [
    {
     "name": "stdout",
     "output_type": "stream",
     "text": [
      "[1 5 9]\n"
     ]
    }
   ],
   "source": [
    "#latihan 4\n",
    "\n",
    "#menentukan dan mencetak nilai minimun tiap baris dari matrik (a)\n",
    "d = np.min(a,axis=1)\n",
    "print(d)"
   ]
  },
  {
   "cell_type": "code",
   "execution_count": 106,
   "id": "324884f2",
   "metadata": {},
   "outputs": [
    {
     "name": "stdout",
     "output_type": "stream",
     "text": [
      "12\n"
     ]
    }
   ],
   "source": [
    "#latihan 5\n",
    "\n",
    "#menentukan dan mencetak nilai maksimum dari anggota matrik (a)\n",
    "e = np.max(a)\n",
    "print(e)"
   ]
  },
  {
   "cell_type": "code",
   "execution_count": 107,
   "id": "fb7ec3d6",
   "metadata": {},
   "outputs": [
    {
     "name": "stdout",
     "output_type": "stream",
     "text": [
      "[ 9 10 11 12]\n"
     ]
    }
   ],
   "source": [
    "#latihan 6\n",
    "\n",
    "#menentukan dan mencetak nilai maksimum tiap kolom dari matrik (a)\n",
    "f = np.max(a,axis=0)\n",
    "print(f)"
   ]
  },
  {
   "cell_type": "code",
   "execution_count": 108,
   "id": "8f26b3c2",
   "metadata": {},
   "outputs": [
    {
     "name": "stdout",
     "output_type": "stream",
     "text": [
      "[ 4  8 12]\n"
     ]
    }
   ],
   "source": [
    "#latihan 7\n",
    "\n",
    "#menentukan dan mencetak nilai maksimum tiap baris dari matrik (a)\n",
    "g = np.max(a,axis=1)\n",
    "print(g)"
   ]
  },
  {
   "cell_type": "code",
   "execution_count": 109,
   "id": "4f9fafd0",
   "metadata": {},
   "outputs": [
    {
     "name": "stdout",
     "output_type": "stream",
     "text": [
      "[[ 1  2  3  4]\n",
      " [ 5  6  7  8]\n",
      " [ 9 10 11 12]]\n"
     ]
    }
   ],
   "source": [
    "#latihan 8\n",
    "\n",
    "#menjumlahkan dan mencetak matrik (a)\n",
    "h = np.sum(a)\n",
    "print(a)\n",
    "#karena tidak ada matrik lain yang ditambahkan, maka outputnya akan sama dengan matrik (a)"
   ]
  },
  {
   "cell_type": "code",
   "execution_count": 110,
   "id": "a6b0cbc8",
   "metadata": {},
   "outputs": [
    {
     "name": "stdout",
     "output_type": "stream",
     "text": [
      "[15 18 21 24]\n"
     ]
    }
   ],
   "source": [
    "#latihan 9\n",
    "\n",
    "#menjumlahkan dan mencetak tiap kolom dari matrik (a)\n",
    "i = np.sum(a,axis=0)\n",
    "print(i)"
   ]
  },
  {
   "cell_type": "code",
   "execution_count": 111,
   "id": "1ca0b6aa",
   "metadata": {},
   "outputs": [
    {
     "name": "stdout",
     "output_type": "stream",
     "text": [
      "[10 26 42]\n"
     ]
    }
   ],
   "source": [
    "#latihan 10\n",
    "\n",
    "#menjumlahkan dan mencetak tiap baris dari matrik (a)\n",
    "j = np.sum(a,axis=1)\n",
    "print(j)"
   ]
  }
 ],
 "metadata": {
  "kernelspec": {
   "display_name": "Python 3 (ipykernel)",
   "language": "python",
   "name": "python3"
  },
  "language_info": {
   "codemirror_mode": {
    "name": "ipython",
    "version": 3
   },
   "file_extension": ".py",
   "mimetype": "text/x-python",
   "name": "python",
   "nbconvert_exporter": "python",
   "pygments_lexer": "ipython3",
   "version": "3.9.13"
  }
 },
 "nbformat": 4,
 "nbformat_minor": 5
}
